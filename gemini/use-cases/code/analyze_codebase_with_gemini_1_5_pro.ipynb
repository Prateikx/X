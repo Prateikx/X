{
  "cells": [
    {
      "cell_type": "code",
      "execution_count": null,
      "metadata": {
        "id": "bCIMTPB1WoTq"
      },
      "outputs": [],
      "source": [
        "# Copyright 2024 Google LLC\n",
        "#\n",
        "# Licensed under the Apache License, Version 2.0 (the \"License\");\n",
        "# you may not use this file except in compliance with the License.\n",
        "# You may obtain a copy of the License at\n",
        "#\n",
        "#     https://www.apache.org/licenses/LICENSE-2.0\n",
        "#\n",
        "# Unless required by applicable law or agreed to in writing, software\n",
        "# distributed under the License is distributed on an \"AS IS\" BASIS,\n",
        "# WITHOUT WARRANTIES OR CONDITIONS OF ANY KIND, either express or implied.\n",
        "# See the License for the specific language governing permissions and\n",
        "# limitations under the License."
      ]
    },
    {
      "cell_type": "markdown",
      "metadata": {
        "id": "pPmcMNgZpo9V"
      },
      "source": [
        "# Analyze a codebase with the Vertex AI Gemini 1.5 Pro\n",
        "\n",
        "\n",
        "<table align=\"left\">\n",
        "  <td style=\"text-align: center\">\n",
        "    <a href=\"https://colab.research.google.com/github/GoogleCloudPlatform/generative-ai/blob/main/gemini/use-cases/code/analyze_codebase_with_gemini_1_5_pro.ipynb\">\n",
        "      <img src=\"https://cloud.google.com/ml-engine/images/colab-logo-32px.png\" alt=\"Google Colaboratory logo\"><br> Open in Colab\n",
        "    </a>\n",
        "  </td>\n",
        "  <td style=\"text-align: center\">\n",
        "    <a href=\"https://console.cloud.google.com/vertex-ai/colab/import/https:%2F%2Fraw.githubusercontent.com%2FGoogleCloudPlatform%2Fgenerative-ai%2Fmain%2Fgemini%2Fuse-cases%2Fcode%2Fanalyze_codebase_with_gemini_1_5_pro.ipynb\">\n",
        "      <img width=\"32px\" src=\"https://lh3.googleusercontent.com/JmcxdQi-qOpctIvWKgPtrzZdJJK-J3sWE1RsfjZNwshCFgE_9fULcNpuXYTilIR2hjwN\" alt=\"Google Cloud Colab Enterprise logo\"><br> Open in Colab Enterprise\n",
        "    </a>\n",
        "  </td>    \n",
        "  <td style=\"text-align: center\">\n",
        "    <a href=\"https://console.cloud.google.com/vertex-ai/workbench/deploy-notebook?download_url=https://raw.githubusercontent.com/GoogleCloudPlatform/generative-ai/main/gemini/use-cases/code/analyze_codebase_with_gemini_1_5_pro.ipynb\">\n",
        "      <img src=\"https://lh3.googleusercontent.com/UiNooY4LUgW_oTvpsNhPpQzsstV5W8F7rYgxgGBD85cWJoLmrOzhVs_ksK_vgx40SHs7jCqkTkCk=e14-rj-sc0xffffff-h130-w32\" alt=\"Vertex AI logo\"><br> Open in Workbench\n",
        "    </a>\n",
        "  </td>\n",
        "  <td style=\"text-align: center\">\n",
        "    <a href=\"https://github.com/GoogleCloudPlatform/generative-ai/blob/main/gemini/use-cases/code/analyze_codebase_with_gemini_1_5_pro.ipynb\">\n",
        "      <img src=\"https://cloud.google.com/ml-engine/images/github-logo-32px.png\" alt=\"GitHub logo\"><br> View on GitHub\n",
        "    </a>\n",
        "  </td>\n",
        "</table>\n",
        "\n",
        "<div style=\"clear: both;\"></div>\n",
        "\n",
        "<b>Share to:</b>\n",
        "\n",
        "<a href=\"https://www.linkedin.com/sharing/share-offsite/?url=https%3A//github.com/GoogleCloudPlatform/generative-ai/blob/main/gemini/use-cases/code/analyze_codebase_with_gemini_1_5_pro.ipynb\" target=\"_blank\">\n",
        "  <img width=\"20px\" src=\"https://upload.wikimedia.org/wikipedia/commons/8/81/LinkedIn_icon.svg\" alt=\"LinkedIn logo\">\n",
        "</a>\n",
        "\n",
        "<a href=\"https://bsky.app/intent/compose?text=https%3A//github.com/GoogleCloudPlatform/generative-ai/blob/main/gemini/use-cases/code/analyze_codebase_with_gemini_1_5_pro.ipynb\" target=\"_blank\">\n",
        "  <img width=\"20px\" src=\"https://upload.wikimedia.org/wikipedia/commons/7/7a/Bluesky_Logo.svg\" alt=\"Bluesky logo\">\n",
        "</a>\n",
        "\n",
        "<a href=\"https://twitter.com/intent/tweet?url=https%3A//github.com/GoogleCloudPlatform/generative-ai/blob/main/gemini/use-cases/code/analyze_codebase_with_gemini_1_5_pro.ipynb\" target=\"_blank\">\n",
        "  <img width=\"20px\" src=\"https://upload.wikimedia.org/wikipedia/commons/5/53/X_logo_2023_original.svg\" alt=\"X logo\">\n",
        "</a>\n",
        "\n",
        "<a href=\"https://reddit.com/submit?url=https%3A//github.com/GoogleCloudPlatform/generative-ai/blob/main/gemini/use-cases/code/analyze_codebase_with_gemini_1_5_pro.ipynb\" target=\"_blank\">\n",
        "  <img width=\"20px\" src=\"https://redditinc.com/hubfs/Reddit%20Inc/Brand/Reddit_Logo.png\" alt=\"Reddit logo\">\n",
        "</a>\n",
        "\n",
        "<a href=\"https://www.facebook.com/sharer/sharer.php?u=https%3A//github.com/GoogleCloudPlatform/generative-ai/blob/main/gemini/use-cases/code/analyze_codebase_with_gemini_1_5_pro.ipynb\" target=\"_blank\">\n",
        "  <img width=\"20px\" src=\"https://upload.wikimedia.org/wikipedia/commons/5/51/Facebook_f_logo_%282019%29.svg\" alt=\"Facebook logo\">\n",
        "</a>            \n"
      ]
    },
    {
      "cell_type": "markdown",
      "metadata": {
        "id": "1EExYZvij2ve"
      },
      "source": [
        "| | |\n",
        "|-|-|\n",
        "|Author(s) | [Eric Dong](https://github.com/gericdong), [Aakash Gouda](https://github.com/aksstar)|"
      ]
    },
    {
      "cell_type": "markdown",
      "metadata": {
        "id": "7yVV6txOmNMn"
      },
      "source": [
        "## Overview\n",
        "\n",
        "Gemini 1.5 Pro introduces a breakthrough long context window of up to 1 million tokens that can help seamlessly analyze, classify and summarize large amounts of content within a given prompt. With its long-context reasoning, Gemini 1.5 Pro can analyze an entire codebase for deeper insights.\n",
        "\n",
        "In this tutorial, you learn how to analyze an entire codebase with Gemini 1.5 Pro and prompt the model to:\n",
        "\n",
        "- **Analyze**: Summarize codebases effortlessly.\n",
        "- **Guide**: Generate clear developer getting-started documentation.\n",
        "- **Debug**: Uncover critical bugs and provide fixes.\n",
        "- **Enhance**: Implement new features and improve reliability and security.\n"
      ]
    },
    {
      "cell_type": "markdown",
      "metadata": {
        "id": "hdMGtr18rFdL"
      },
      "source": [
        "## Getting Started"
      ]
    },
    {
      "cell_type": "markdown",
      "metadata": {
        "id": "No17Cw5hgx12"
      },
      "source": [
        "### Install Vertex AI SDK for Python\n"
      ]
    },
    {
      "cell_type": "code",
      "execution_count": 1,
      "metadata": {
        "id": "tFy3H3aPgx12",
        "outputId": "aa40ae15-ee87-4b46-abd9-dc79034ce478",
        "colab": {
          "base_uri": "https://localhost:8080/"
        }
      },
      "outputs": [
        {
          "output_type": "stream",
          "name": "stdout",
          "text": [
            "\u001b[?25l   \u001b[90m━━━━━━━━━━━━━━━━━━━━━━━━━━━━━━━━━━━━━━━━\u001b[0m \u001b[32m0.0/6.9 MB\u001b[0m \u001b[31m?\u001b[0m eta \u001b[36m-:--:--\u001b[0m\r\u001b[2K   \u001b[91m━━━\u001b[0m\u001b[91m╸\u001b[0m\u001b[90m━━━━━━━━━━━━━━━━━━━━━━━━━━━━━━━━━━━━\u001b[0m \u001b[32m0.7/6.9 MB\u001b[0m \u001b[31m19.2 MB/s\u001b[0m eta \u001b[36m0:00:01\u001b[0m\r\u001b[2K   \u001b[91m━━━━━━━━━━━━━━━━━━\u001b[0m\u001b[90m╺\u001b[0m\u001b[90m━━━━━━━━━━━━━━━━━━━━━\u001b[0m \u001b[32m3.2/6.9 MB\u001b[0m \u001b[31m43.7 MB/s\u001b[0m eta \u001b[36m0:00:01\u001b[0m\r\u001b[2K   \u001b[91m━━━━━━━━━━━━━━━━━━━━━━━━━━━━━━━━━━━━━━━\u001b[0m\u001b[91m╸\u001b[0m \u001b[32m6.9/6.9 MB\u001b[0m \u001b[31m65.1 MB/s\u001b[0m eta \u001b[36m0:00:01\u001b[0m\r\u001b[2K   \u001b[90m━━━━━━━━━━━━━━━━━━━━━━━━━━━━━━━━━━━━━━━━\u001b[0m \u001b[32m6.9/6.9 MB\u001b[0m \u001b[31m47.1 MB/s\u001b[0m eta \u001b[36m0:00:00\u001b[0m\n",
            "\u001b[2K   \u001b[90m━━━━━━━━━━━━━━━━━━━━━━━━━━━━━━━━━━━━━━━━\u001b[0m \u001b[32m1.0/1.0 MB\u001b[0m \u001b[31m37.6 MB/s\u001b[0m eta \u001b[36m0:00:00\u001b[0m\n",
            "\u001b[2K   \u001b[90m━━━━━━━━━━━━━━━━━━━━━━━━━━━━━━━━━━━━━━━━\u001b[0m \u001b[32m13.3/13.3 MB\u001b[0m \u001b[31m48.2 MB/s\u001b[0m eta \u001b[36m0:00:00\u001b[0m\n",
            "\u001b[2K   \u001b[90m━━━━━━━━━━━━━━━━━━━━━━━━━━━━━━━━━━━━━━━━\u001b[0m \u001b[32m46.0/46.0 kB\u001b[0m \u001b[31m2.5 MB/s\u001b[0m eta \u001b[36m0:00:00\u001b[0m\n",
            "\u001b[2K   \u001b[90m━━━━━━━━━━━━━━━━━━━━━━━━━━━━━━━━━━━━━━━━\u001b[0m \u001b[32m86.8/86.8 kB\u001b[0m \u001b[31m6.2 MB/s\u001b[0m eta \u001b[36m0:00:00\u001b[0m\n",
            "\u001b[?25h\u001b[33m  WARNING: The script dotenv is installed in '/root/.local/bin' which is not on PATH.\n",
            "  Consider adding this directory to PATH or, if you prefer to suppress this warning, use --no-warn-script-location.\u001b[0m\u001b[33m\n",
            "\u001b[0m\u001b[33m  WARNING: The script humanfriendly is installed in '/root/.local/bin' which is not on PATH.\n",
            "  Consider adding this directory to PATH or, if you prefer to suppress this warning, use --no-warn-script-location.\u001b[0m\u001b[33m\n",
            "\u001b[0m\u001b[33m  WARNING: The script coloredlogs is installed in '/root/.local/bin' which is not on PATH.\n",
            "  Consider adding this directory to PATH or, if you prefer to suppress this warning, use --no-warn-script-location.\u001b[0m\u001b[33m\n",
            "\u001b[0m\u001b[33m  WARNING: The script onnxruntime_test is installed in '/root/.local/bin' which is not on PATH.\n",
            "  Consider adding this directory to PATH or, if you prefer to suppress this warning, use --no-warn-script-location.\u001b[0m\u001b[33m\n",
            "\u001b[0m\u001b[33m  WARNING: The script magika is installed in '/root/.local/bin' which is not on PATH.\n",
            "  Consider adding this directory to PATH or, if you prefer to suppress this warning, use --no-warn-script-location.\u001b[0m\u001b[33m\n",
            "\u001b[0m\u001b[33m  WARNING: The script tb-gcp-uploader is installed in '/root/.local/bin' which is not on PATH.\n",
            "  Consider adding this directory to PATH or, if you prefer to suppress this warning, use --no-warn-script-location.\u001b[0m\u001b[33m\n",
            "\u001b[0m"
          ]
        }
      ],
      "source": [
        "%pip install --upgrade --user --quiet google-cloud-aiplatform \\\n",
        "                                        gitpython \\\n",
        "                                        magika"
      ]
    },
    {
      "cell_type": "markdown",
      "metadata": {
        "id": "R5Xep4W9lq-Z"
      },
      "source": [
        "### Restart runtime (Colab only)\n",
        "\n",
        "To use the newly installed packages in this Jupyter runtime, you must restart the runtime. You can do this by running the cell below, which restarts the current kernel.\n",
        "\n",
        "The restart might take a minute or longer. After it's restarted, continue to the next step."
      ]
    },
    {
      "cell_type": "code",
      "execution_count": 2,
      "metadata": {
        "id": "XRvKdaPDTznN"
      },
      "outputs": [],
      "source": [
        "import sys\n",
        "\n",
        "if \"google.colab\" in sys.modules:\n",
        "    import IPython\n",
        "\n",
        "    app = IPython.Application.instance()\n",
        "    app.kernel.do_shutdown(True)"
      ]
    },
    {
      "cell_type": "markdown",
      "metadata": {
        "id": "SbmM4z7FOBpM"
      },
      "source": [
        "<div class=\"alert alert-block alert-warning\">\n",
        "<b>⚠️ The kernel is going to restart. Please wait until it is finished before continuing to the next step. ⚠️</b>\n",
        "</div>\n"
      ]
    },
    {
      "cell_type": "markdown",
      "metadata": {
        "id": "dmWOrTJ3gx13"
      },
      "source": [
        "### Authenticate your notebook environment (Colab only)\n",
        "\n",
        "If you are running this notebook on Google Colab, run the following cell to authenticate your environment.\n"
      ]
    },
    {
      "cell_type": "code",
      "execution_count": 1,
      "metadata": {
        "id": "NyKGtVQjgx13"
      },
      "outputs": [],
      "source": [
        "import sys\n",
        "\n",
        "if \"google.colab\" in sys.modules:\n",
        "    from google.colab import auth\n",
        "\n",
        "    auth.authenticate_user()"
      ]
    },
    {
      "cell_type": "markdown",
      "metadata": {
        "id": "DF4l8DTdWgPY"
      },
      "source": [
        "### Set Google Cloud project information and initialize Vertex AI SDK\n",
        "\n",
        "To get started using Vertex AI, you must have an existing Google Cloud project and [enable the Vertex AI API](https://console.cloud.google.com/flows/enableapi?apiid=aiplatform.googleapis.com).\n",
        "\n",
        "Learn more about [setting up a project and a development environment](https://cloud.google.com/vertex-ai/docs/start/cloud-environment)."
      ]
    },
    {
      "cell_type": "code",
      "execution_count": 2,
      "metadata": {
        "id": "Nqwi-5ufWp_B"
      },
      "outputs": [],
      "source": [
        "PROJECT_ID = \"billing-account-test-397411\"  # @param {type:\"string\"}\n",
        "LOCATION = \"us-central1\"  # @param {type:\"string\"}\n",
        "\n",
        "import vertexai\n",
        "\n",
        "vertexai.init(project=PROJECT_ID, location=LOCATION)"
      ]
    },
    {
      "cell_type": "markdown",
      "metadata": {
        "id": "vbozY-XKee95"
      },
      "source": [
        "### Import libraries"
      ]
    },
    {
      "cell_type": "code",
      "execution_count": 3,
      "metadata": {
        "id": "NSCFmvOWBas9"
      },
      "outputs": [],
      "source": [
        "from IPython.core.interactiveshell import InteractiveShell\n",
        "import IPython.display\n",
        "\n",
        "InteractiveShell.ast_node_interactivity = \"all\"\n",
        "\n",
        "from vertexai.generative_models import (\n",
        "    FunctionDeclaration,\n",
        "    GenerationConfig,\n",
        "    GenerativeModel,\n",
        "    Tool,\n",
        ")"
      ]
    },
    {
      "cell_type": "markdown",
      "metadata": {
        "id": "WNoOTMp2fe33"
      },
      "source": [
        "## Cloning a codebase\n",
        "\n",
        "You will use repo [Online Boutique](https://github.com/GoogleCloudPlatform/microservices-demo) as an example in this notebook. Online Boutique is a cloud-first microservices demo application. The application is a web-based e-commerce app where users can browse items, add them to the cart, and purchase them. This application consists of 11 microservices across multiple languages."
      ]
    },
    {
      "cell_type": "code",
      "execution_count": 4,
      "metadata": {
        "id": "GlDOs49qgStM"
      },
      "outputs": [],
      "source": [
        "# The GitHub repository URL\n",
        "repo_url = \"https://github.com/GoogleCloudPlatform/microservices-demo\"  # @param {type:\"string\"}\n",
        "\n",
        "# The location to clone the repo\n",
        "repo_dir = \"./repo\""
      ]
    },
    {
      "cell_type": "markdown",
      "metadata": {
        "id": "PAm1ly9pfIEX"
      },
      "source": [
        "#### Define helper functions for processing GitHub repository"
      ]
    },
    {
      "cell_type": "code",
      "execution_count": 5,
      "metadata": {
        "id": "stNia6UaHau2"
      },
      "outputs": [],
      "source": [
        "import os\n",
        "from pathlib import Path\n",
        "import shutil\n",
        "\n",
        "import git\n",
        "import magika\n",
        "import requests\n",
        "\n",
        "m = magika.Magika()\n",
        "\n",
        "\n",
        "def clone_repo(repo_url, repo_dir):\n",
        "    \"\"\"Clone a GitHub repository.\"\"\"\n",
        "\n",
        "    if os.path.exists(repo_dir):\n",
        "        shutil.rmtree(repo_dir)\n",
        "    os.makedirs(repo_dir)\n",
        "    git.Repo.clone_from(repo_url, repo_dir)\n",
        "\n",
        "\n",
        "def extract_code(repo_dir):\n",
        "    \"\"\"Create an index, extract content of code/text files.\"\"\"\n",
        "\n",
        "    code_index = []\n",
        "    code_text = \"\"\n",
        "    for root, _, files in os.walk(repo_dir):\n",
        "        for file in files:\n",
        "            file_path = os.path.join(root, file)\n",
        "            relative_path = os.path.relpath(file_path, repo_dir)\n",
        "            code_index.append(relative_path)\n",
        "\n",
        "            file_type = m.identify_path(Path(file_path))\n",
        "            if file_type.output.group in (\"text\", \"code\"):\n",
        "                try:\n",
        "                    with open(file_path) as f:\n",
        "                        code_text += f\"----- File: {relative_path} -----\\n\"\n",
        "                        code_text += f.read()\n",
        "                        code_text += \"\\n-------------------------\\n\"\n",
        "                except Exception:\n",
        "                    pass\n",
        "\n",
        "    return code_index, code_text\n",
        "\n",
        "\n",
        "def get_github_issue(owner: str, repo: str, issue_number: str) -> str:\n",
        "    headers = {\n",
        "        \"Accept\": \"application/vnd.github+json\",\n",
        "        \"X-GitHub-Api-Version\": \"2022-11-28\",\n",
        "    }  # Set headers for GitHub API\n",
        "\n",
        "    # Construct API URL\n",
        "    url = f\"https://api.github.com/repos/{owner}/{repo}/issues/{issue_number}\"\n",
        "\n",
        "    try:\n",
        "        response_git = requests.get(url, headers=headers)\n",
        "        response_git.raise_for_status()  # Check for HTTP errors\n",
        "    except requests.exceptions.RequestException as error:\n",
        "        print(f\"Error fetching issue: {error}\")  # Handle potential errors\n",
        "\n",
        "    issue_data = response_git.json()\n",
        "    if issue_data:\n",
        "        return issue_data[\"body\"]\n",
        "    return \"\""
      ]
    },
    {
      "cell_type": "markdown",
      "metadata": {
        "id": "m1UyVuQLuTKE"
      },
      "source": [
        "#### Create an index and extract content of a codebase\n",
        "\n",
        "Clone the repo and create an index and extract content of code/text files."
      ]
    },
    {
      "cell_type": "code",
      "execution_count": 6,
      "metadata": {
        "id": "rqaYzmNQuTKQ"
      },
      "outputs": [],
      "source": [
        "clone_repo(repo_url, repo_dir)\n",
        "\n",
        "code_index, code_text = extract_code(repo_dir)"
      ]
    },
    {
      "cell_type": "markdown",
      "metadata": {
        "id": "JiVQB5SKekS0"
      },
      "source": [
        "## Analyzing the codebase with Gemini 1.5 Pro\n",
        "\n",
        "With its long-context reasoning, Gemini 1.5 Pro can process the codebase and answer questions about the codebase."
      ]
    },
    {
      "cell_type": "markdown",
      "metadata": {
        "id": "BY1nfXrqRxVX"
      },
      "source": [
        "#### Load the Gemini 1.5 Pro model\n",
        "\n",
        "Learn more about the [Gemini API models on Vertex AI](https://cloud.google.com/vertex-ai/generative-ai/docs/learn/models#gemini-models).\n"
      ]
    },
    {
      "cell_type": "code",
      "execution_count": 7,
      "metadata": {
        "id": "vB9gY3WruzK9"
      },
      "outputs": [],
      "source": [
        "MODEL_ID = \"gemini-1.5-pro\"  # @param {type:\"string\"}\n",
        "\n",
        "model = GenerativeModel(\n",
        "    MODEL_ID,\n",
        "    system_instruction=[\n",
        "        \"You are a coding expert.\",\n",
        "        \"Your mission is to answer all code related questions with given context and instructions.\",\n",
        "    ],\n",
        "\n",
        ")"
      ]
    },
    {
      "cell_type": "markdown",
      "metadata": {
        "id": "yedKsUEEvNyb"
      },
      "source": [
        "#### Define a helper function to generate a prompt to a code related question"
      ]
    },
    {
      "cell_type": "code",
      "execution_count": 8,
      "metadata": {
        "id": "1DGzMhjCvCpj"
      },
      "outputs": [],
      "source": [
        "def get_code_prompt(question):\n",
        "    \"\"\"Generates a prompt to a code related question.\"\"\"\n",
        "\n",
        "    prompt = f\"\"\"\n",
        "    Questions: {question}\n",
        "\n",
        "    Context:\n",
        "    - The entire codebase is provided below.\n",
        "    - Here is an index of all of the files in the codebase:\n",
        "      \\n\\n{code_index}\\n\\n.\n",
        "    - Then each of the files is concatenated together. You will find all of the code you need:\n",
        "      \\n\\n{code_text}\\n\\n\n",
        "\n",
        "    Answer:\n",
        "  \"\"\"\n",
        "\n",
        "    return prompt"
      ]
    },
    {
      "cell_type": "markdown",
      "metadata": {
        "id": "g3OtaszvJt9L"
      },
      "source": [
        "### 1. Summarizing the codebase\n",
        "\n",
        "\n",
        "Generate a summary of the codebase."
      ]
    },
    {
      "cell_type": "code",
      "execution_count": 10,
      "metadata": {
        "id": "uMexx1Qtf1ML",
        "outputId": "5ce7e047-2d43-4f10-e7a3-075d8d82eb1c",
        "colab": {
          "base_uri": "https://localhost:8080/"
        }
      },
      "outputs": [
        {
          "output_type": "stream",
          "name": "stdout",
          "text": [
            "\n",
            "Answer:\n",
            "```\n",
            "This codebase is the source code for the \"Online Boutique\" microservices demo application. The application is a web-based e-commerce storefront that demonstrates how to build and deploy microservices using various Google Cloud Platform products, including GKE, Cloud Service Mesh, gRPC, Cloud Operations, Spanner, Memorystore, AlloyDB, and Gemini.\n",
            "\n",
            "The application is composed of 11 microservices written in different languages:\n",
            "\n",
            "- **frontend** (Go): Serves the website and user interface.\n",
            "- **cartservice** (C#): Manages user shopping carts using a Redis or Spanner database.\n",
            "- **productcatalogservice** (Go): Provides product information.\n",
            "- **currencyservice** (Node.js): Performs currency conversions.\n",
            "- **paymentservice** (Node.js): Processes payments (mocked).\n",
            "- **shippingservice** (Go): Calculates shipping costs and generates tracking IDs (mocked).\n",
            "- **emailservice** (Python): Sends order confirmation emails (mocked).\n",
            "- **checkoutservice** (Go): Orchestrates the checkout process, including payment, shipping, and email notifications.\n",
            "- **recommendationservice** (Python): Recommends products based on cart contents.\n",
            "- **adservice** (Java): Serves targeted text advertisements.\n",
            "- **loadgenerator** (Python/Locust): Simulates user traffic for load testing.\n",
            "\n",
            "### Top 3 things to learn:\n",
            "\n",
            "1. **Microservices architecture:** This codebase showcases a practical implementation of microservices, demonstrating how to break down a complex application into smaller, independent services. You can learn about service communication patterns, data management, and the benefits of this architectural style.\n",
            "\n",
            "2. **gRPC:** The microservices in this application communicate using gRPC, a high-performance, open-source framework for remote procedure calls. You can learn how to define gRPC services, messages, and clients in different languages, and see how gRPC is used for inter-service communication.\n",
            "\n",
            "3. **Google Cloud Platform integration:** This codebase demonstrates how to leverage various Google Cloud products to deploy and manage microservices. You can learn about containerizing services with Docker, deploying to Kubernetes using Skaffold and Helm, and integrating with services like Memorystore, Spanner, and Cloud Operations for monitoring and tracing.\n",
            "```\n",
            "\n",
            "Usage metadata:\n",
            "{'prompt_token_count': 733975, 'candidates_token_count': 479, 'total_token_count': 734454}\n",
            "\n",
            "Finish reason:\n",
            "1\n",
            "\n",
            "Safety settings:\n",
            "[category: HARM_CATEGORY_HATE_SPEECH\n",
            "probability: NEGLIGIBLE\n",
            "probability_score: 0.0815429688\n",
            "severity: HARM_SEVERITY_NEGLIGIBLE\n",
            "severity_score: 0.13671875\n",
            ", category: HARM_CATEGORY_DANGEROUS_CONTENT\n",
            "probability: NEGLIGIBLE\n",
            "probability_score: 0.337890625\n",
            "severity: HARM_SEVERITY_LOW\n",
            "severity_score: 0.33984375\n",
            ", category: HARM_CATEGORY_HARASSMENT\n",
            "probability: NEGLIGIBLE\n",
            "probability_score: 0.215820312\n",
            "severity: HARM_SEVERITY_NEGLIGIBLE\n",
            "severity_score: 0.0693359375\n",
            ", category: HARM_CATEGORY_SEXUALLY_EXPLICIT\n",
            "probability: NEGLIGIBLE\n",
            "probability_score: 0.0673828125\n",
            "severity: HARM_SEVERITY_LOW\n",
            "severity_score: 0.30859375\n",
            "]\n"
          ]
        }
      ],
      "source": [
        "question = \"\"\"\n",
        "  Give me a summary of this codebase, and tell me the top 3 things that I can learn from it.\n",
        "\"\"\"\n",
        "\n",
        "prompt = get_code_prompt(question)\n",
        "contents = [prompt]\n",
        "\n",
        "# Generate text using non-streaming method\n",
        "response = model.generate_content(contents)\n",
        "\n",
        "# Print generated text and usage metadata\n",
        "print(f\"\\nAnswer:\\n{response.text}\")\n",
        "print(f'\\nUsage metadata:\\n{response.to_dict().get(\"usage_metadata\")}')\n",
        "print(f\"\\nFinish reason:\\n{response.candidates[0].finish_reason}\")\n",
        "print(f\"\\nSafety settings:\\n{response.candidates[0].safety_ratings}\")"
      ]
    },
    {
      "cell_type": "markdown",
      "metadata": {
        "id": "aCshJHPCYoxI"
      },
      "source": [
        "### 2. Creating a developer getting started guide\n",
        "\n",
        "Generate a getting started guide for developers. This sample uses the streaming option to generate the content."
      ]
    },
    {
      "cell_type": "code",
      "execution_count": 15,
      "metadata": {
        "id": "e6Kns7vCYm1P",
        "outputId": "2a1af63f-19da-4114-d5f2-88cd6b355092",
        "colab": {
          "base_uri": "https://localhost:8080/",
          "height": 1000
        }
      },
      "outputs": [
        {
          "output_type": "execute_result",
          "data": {
            "text/plain": [
              "<IPython.core.display.Markdown object>"
            ],
            "text/markdown": "```"
          },
          "metadata": {},
          "execution_count": 15
        },
        {
          "output_type": "execute_result",
          "data": {
            "text/plain": [
              "<IPython.core.display.Markdown object>"
            ],
            "text/markdown": "\n## Getting Started with the Online Boutique Codebase\n\nWelcome to the Online Boutique"
          },
          "metadata": {},
          "execution_count": 15
        },
        {
          "output_type": "execute_result",
          "data": {
            "text/plain": [
              "<IPython.core.display.Markdown object>"
            ],
            "text/markdown": " microservices demo application! This guide will help you get started with understanding and contributing"
          },
          "metadata": {},
          "execution_count": 15
        },
        {
          "output_type": "execute_result",
          "data": {
            "text/plain": [
              "<IPython.core.display.Markdown object>"
            ],
            "text/markdown": " to the codebase.\n\n**1. Project Overview**\n\nOnline Boutique is a cloud-native microservices demo application designed to showcase the modernization of enterprise applications"
          },
          "metadata": {},
          "execution_count": 15
        },
        {
          "output_type": "execute_result",
          "data": {
            "text/plain": [
              "<IPython.core.display.Markdown object>"
            ],
            "text/markdown": " using various Google Cloud products and technologies. It simulates an e-commerce store where users can browse products, add them to a cart, and purchase them.\n\n"
          },
          "metadata": {},
          "execution_count": 15
        },
        {
          "output_type": "execute_result",
          "data": {
            "text/plain": [
              "<IPython.core.display.Markdown object>"
            ],
            "text/markdown": "**2. Architecture**\n\nThe application comprises 11 microservices written in different languages, communicating over gRPC. \n\n* **Frontend (Go):**  Serves the website, generates session IDs, and interacts with other services."
          },
          "metadata": {},
          "execution_count": 15
        },
        {
          "output_type": "execute_result",
          "data": {
            "text/plain": [
              "<IPython.core.display.Markdown object>"
            ],
            "text/markdown": "\n* **CartService (C#):** Manages user shopping carts, using Redis, Spanner or AlloyDB for storage.\n* **ProductCatalogService (Go):** Provides product information and search functionality.\n* **Currency"
          },
          "metadata": {},
          "execution_count": 15
        },
        {
          "output_type": "execute_result",
          "data": {
            "text/plain": [
              "<IPython.core.display.Markdown object>"
            ],
            "text/markdown": "Service (Node.js):** Handles currency conversions using real-time data.\n* **PaymentService (Node.js):** Simulates payment processing.\n* **ShippingService (Go):**  Calculates shipping costs and simulates order shipment.\n* **EmailService (Python):** Sends order confirmation emails"
          },
          "metadata": {},
          "execution_count": 15
        },
        {
          "output_type": "execute_result",
          "data": {
            "text/plain": [
              "<IPython.core.display.Markdown object>"
            ],
            "text/markdown": ".\n* **CheckoutService (Go):** Orchestrates the checkout process, interacting with payment, shipping, and email services.\n* **RecommendationService (Python):** Recommends products based on cart contents.\n* **AdService (Java):** Delivers targeted text ads based on context.\n*"
          },
          "metadata": {},
          "execution_count": 15
        },
        {
          "output_type": "execute_result",
          "data": {
            "text/plain": [
              "<IPython.core.display.Markdown object>"
            ],
            "text/markdown": " **LoadGenerator (Python/Locust):** Simulates user traffic for testing and performance evaluation.\n\n**3. Getting Started**\n\n**3.1. Environment Setup:**\n\n* **Install Prerequisites:** \n    - Docker: Build and run containerized services.\n    - kubectl: Interact with the"
          },
          "metadata": {},
          "execution_count": 15
        },
        {
          "output_type": "execute_result",
          "data": {
            "text/plain": [
              "<IPython.core.display.Markdown object>"
            ],
            "text/markdown": " Kubernetes cluster.\n    - skaffold: Streamline development workflow.\n    - Git: For version control and collaboration.\n    - Language-specific tools (Go, C#, Node.js, Python, Java) based on the services you'll be working with.\n* **Clone the Repository:** `"
          },
          "metadata": {},
          "execution_count": 15
        },
        {
          "output_type": "execute_result",
          "data": {
            "text/plain": [
              "<IPython.core.display.Markdown object>"
            ],
            "text/markdown": "git clone https://github.com/GoogleCloudPlatform/microservices-demo.git`\n* **Navigate to the Project Directory:** `cd microservices-demo`\n\n**3.2. Building and Running:**\n\n* **Deployment Options:** Choose a deployment method:\n    - **GKE (Google"
          },
          "metadata": {},
          "execution_count": 15
        },
        {
          "output_type": "execute_result",
          "data": {
            "text/plain": [
              "<IPython.core.display.Markdown object>"
            ],
            "text/markdown": " Kubernetes Engine):** For a cloud-based deployment. See the [Quickstart (GKE)](/README.md#quickstart-gke) in the main README.\n    - **Local Cluster:** Use tools like Minikube or Kind for a local Kubernetes environment.\n    - **Terraform:**"
          },
          "metadata": {},
          "execution_count": 15
        },
        {
          "output_type": "execute_result",
          "data": {
            "text/plain": [
              "<IPython.core.display.Markdown object>"
            ],
            "text/markdown": " For infrastructure provisioning and application deployment. \n* **Build and Deploy:** Use skaffold to build and deploy the services:\n    - **For GKE:**  `skaffold run --default-repo=gcr.io/$PROJECT_ID` (replace $PROJECT_ID with your GCP project ID)"
          },
          "metadata": {},
          "execution_count": 15
        },
        {
          "output_type": "execute_result",
          "data": {
            "text/plain": [
              "<IPython.core.display.Markdown object>"
            ],
            "text/markdown": "\n    - **For local clusters:** `skaffold run`\n    - **For Terraform:** Follow instructions in the [/terraform](/terraform) directory.\n* **Access the Application:** Once deployed, find the frontend service's IP address and access it in your browser.\n\n**4. Development Workflow"
          },
          "metadata": {},
          "execution_count": 15
        },
        {
          "output_type": "execute_result",
          "data": {
            "text/plain": [
              "<IPython.core.display.Markdown object>"
            ],
            "text/markdown": "**\n\n* **Code Changes:** Make your code changes in the respective service directory.\n* **Rebuild and Redeploy:** Use `skaffold dev` for automatic rebuilding and redeploying on code changes.\n* **Testing:** Utilize unit tests and integration tests available in each service directory to ensure functionality.\n*"
          },
          "metadata": {},
          "execution_count": 15
        },
        {
          "output_type": "execute_result",
          "data": {
            "text/plain": [
              "<IPython.core.display.Markdown object>"
            ],
            "text/markdown": " **Debugging:** Use debugging tools available for your chosen language and IDE.\n\n**5. Protocol Buffers (Protobuf)**\n\n* **Definition:** Service interactions are defined using Protocol Buffers, located in the [/protos](/protos) directory. \n* **Code Generation:**  Use the `genproto.sh"
          },
          "metadata": {},
          "execution_count": 15
        },
        {
          "output_type": "execute_result",
          "data": {
            "text/plain": [
              "<IPython.core.display.Markdown object>"
            ],
            "text/markdown": "` scripts in each service directory to generate language-specific code from the Protobuf definitions.\n\n**6. Additional Information**\n\n* **Kustomize:** Explore various deployment customizations and variations using Kustomize components (see [/kustomize](/kustomize)).\n* **Documentation:** \n    - Refer"
          },
          "metadata": {},
          "execution_count": 15
        },
        {
          "output_type": "execute_result",
          "data": {
            "text/plain": [
              "<IPython.core.display.Markdown object>"
            ],
            "text/markdown": " to the main README for screenshots, deployment variations, and demo links.\n    - See the [/docs](/docs) directory for detailed guides on development, deployment, and specific features.\n\n**7. Contributing**\n\n* **Guidelines:** Review the [CONTRIBUTING.md](/.github/CONTRIBUTING.md"
          },
          "metadata": {},
          "execution_count": 15
        },
        {
          "output_type": "execute_result",
          "data": {
            "text/plain": [
              "<IPython.core.display.Markdown object>"
            ],
            "text/markdown": ") file for contribution guidelines and the project's purpose.\n* **Issues:**  Report any bugs or feature requests by creating a GitHub issue.\n* **Pull Requests:** Submit your code changes via pull requests. Make sure to follow the guidelines and include tests.\n\nWe encourage you to explore the codebase,"
          },
          "metadata": {},
          "execution_count": 15
        },
        {
          "output_type": "execute_result",
          "data": {
            "text/plain": [
              "<IPython.core.display.Markdown object>"
            ],
            "text/markdown": " experiment with different features, and contribute to the project. Welcome aboard!\n```\n"
          },
          "metadata": {},
          "execution_count": 15
        }
      ],
      "source": [
        "question = \"\"\"\n",
        "  Provide a getting started guide to onboard new developers to the codebase.\n",
        "\"\"\"\n",
        "\n",
        "prompt = get_code_prompt(question)\n",
        "contents = [prompt]\n",
        "\n",
        "responses = model.generate_content(contents, stream=True)\n",
        "for response in responses:\n",
        "    IPython.display.Markdown(response.text)"
      ]
    },
    {
      "cell_type": "markdown",
      "metadata": {
        "id": "hXurINu-jelb"
      },
      "source": [
        "### 3. Finding bugs\n",
        "\n",
        "Find the top 3 most severe issues in the codebase."
      ]
    },
    {
      "cell_type": "code",
      "execution_count": 12,
      "metadata": {
        "id": "fy3AWPRgNhu_",
        "outputId": "20da9002-ea12-4923-f352-1ff820323367",
        "colab": {
          "base_uri": "https://localhost:8080/",
          "height": 1000
        }
      },
      "outputs": [
        {
          "output_type": "execute_result",
          "data": {
            "text/plain": [
              "<IPython.core.display.Markdown object>"
            ],
            "text/markdown": "```"
          },
          "metadata": {},
          "execution_count": 12
        },
        {
          "output_type": "execute_result",
          "data": {
            "text/plain": [
              "<IPython.core.display.Markdown object>"
            ],
            "text/markdown": "python\ndef chatBotHandler(w http.ResponseWriter, r *http."
          },
          "metadata": {},
          "execution_count": 12
        },
        {
          "output_type": "execute_result",
          "data": {
            "text/plain": [
              "<IPython.core.display.Markdown object>"
            ],
            "text/markdown": "Request):\n    log := r.Context().Value(ctxKeyLog{}"
          },
          "metadata": {},
          "execution_count": 12
        },
        {
          "output_type": "execute_result",
          "data": {
            "text/plain": [
              "<IPython.core.display.Markdown object>"
            ],
            "text/markdown": ").(logrus.FieldLogger)\n    type Response struct {\n        Message string `json:\"message\"`\n    }\n\n    type LLMResponse struct {"
          },
          "metadata": {},
          "execution_count": 12
        },
        {
          "output_type": "execute_result",
          "data": {
            "text/plain": [
              "<IPython.core.display.Markdown object>"
            ],
            "text/markdown": "\n        Content string         `json:\"content\"`\n        Details map[string]any `json:\"details\"`\n    }\n\n    var response LLM"
          },
          "metadata": {},
          "execution_count": 12
        },
        {
          "output_type": "execute_result",
          "data": {
            "text/plain": [
              "<IPython.core.display.Markdown object>"
            ],
            "text/markdown": "Response\n\n    url := \"http://\" + fe.shoppingAssistantSvcAddr\n    req, err := http.NewRequest(http.MethodPost, url, r.Body)\n    if err != nil {\n        renderHTTP"
          },
          "metadata": {},
          "execution_count": 12
        },
        {
          "output_type": "execute_result",
          "data": {
            "text/plain": [
              "<IPython.core.display.Markdown object>"
            ],
            "text/markdown": "Error(log, r, w, errors.Wrap(err, \"failed to create request\"), http.StatusInternalServerError)\n        return\n    }\n    req.Header.Set(\"Content-Type\", \"application/json"
          },
          "metadata": {},
          "execution_count": 12
        },
        {
          "output_type": "execute_result",
          "data": {
            "text/plain": [
              "<IPython.core.display.Markdown object>"
            ],
            "text/markdown": "\")\n    req.Header.Set(\"Accept\", \"application/json\")\n    res, err := http.DefaultClient.Do(req)\n    if err != nil {\n        renderHTTPError(log, r, w, errors.Wrap(err, \"failed to send request\"), http."
          },
          "metadata": {},
          "execution_count": 12
        },
        {
          "output_type": "execute_result",
          "data": {
            "text/plain": [
              "<IPython.core.display.Markdown object>"
            ],
            "text/markdown": "StatusInternalServerError)\n        return\n    }\n\n    body, err := io.ReadAll(res.Body)\n    if err != nil {\n        renderHTTPError(log, r, w, errors.Wrap(err, \"failed to read response\"), http.StatusInternalServerError)\n        return"
          },
          "metadata": {},
          "execution_count": 12
        },
        {
          "output_type": "execute_result",
          "data": {
            "text/plain": [
              "<IPython.core.display.Markdown object>"
            ],
            "text/markdown": "\n    }\n\n    fmt.Printf(\"%+v\\n\", body)\n    fmt.Printf(\"%+v\\n\", res)\n\n    err = json.Unmarshal(body, &response)\n    if err != nil {\n        renderHTTPError(log, r, w, errors.Wrap"
          },
          "metadata": {},
          "execution_count": 12
        },
        {
          "output_type": "execute_result",
          "data": {
            "text/plain": [
              "<IPython.core.display.Markdown object>"
            ],
            "text/markdown": "(err, \"failed to unmarshal body\"), http.StatusInternalServerError)\n        return\n    }\n\n    // respond with the same message\n    json.NewEncoder(w).Encode(Response{Message: response.Content})\n\n    w.WriteHeader(http.StatusOK)\n```\n\n1."
          },
          "metadata": {},
          "execution_count": 12
        },
        {
          "output_type": "execute_result",
          "data": {
            "text/plain": [
              "<IPython.core.display.Markdown object>"
            ],
            "text/markdown": "  **Debugging Information in Production Code:** The `fmt.Printf(\"%+v\\n\", body)` and `fmt.Printf(\"%+v\\n\", res)` lines print the raw response body and response object to the console. This is generally not recommended for production code, as it can expose sensitive information and clutter"
          },
          "metadata": {},
          "execution_count": 12
        },
        {
          "output_type": "execute_result",
          "data": {
            "text/plain": [
              "<IPython.core.display.Markdown object>"
            ],
            "text/markdown": " logs. This should be replaced with proper logging using the `log` object.\n\n    ```python\n    log.WithFields(logrus.Fields{\n    \t\"response\": response,\n    }).Debug(\"Shopping Assistant response\")\n    ```\n\n2.  **Error Handling:** While the code handles errors"
          },
          "metadata": {},
          "execution_count": 12
        },
        {
          "output_type": "execute_result",
          "data": {
            "text/plain": [
              "<IPython.core.display.Markdown object>"
            ],
            "text/markdown": " by calling `renderHTTPError`, it doesn't perform any retries or fallbacks. This can lead to a degraded user experience if the `shoppingassistantservice` is temporarily unavailable. A retry mechanism or fallback strategy should be implemented to handle transient errors gracefully. The `tenacity` package is a good option for"
          },
          "metadata": {},
          "execution_count": 12
        },
        {
          "output_type": "execute_result",
          "data": {
            "text/plain": [
              "<IPython.core.display.Markdown object>"
            ],
            "text/markdown": " implementing retry logic in Python.\n\n3.  **Missing Security Headers:** The code doesn't set any security headers, such as `Content-Security-Policy`, `X-Frame-Options`, or `X-XSS-Protection`. These headers help protect against common web vulnerabilities like cross-site scripting ("
          },
          "metadata": {},
          "execution_count": 12
        },
        {
          "output_type": "execute_result",
          "data": {
            "text/plain": [
              "<IPython.core.display.Markdown object>"
            ],
            "text/markdown": "XSS) and clickjacking. The `flask-talisman` package can be used to easily add these headers to Flask applications.\n"
          },
          "metadata": {},
          "execution_count": 12
        }
      ],
      "source": [
        "question = \"\"\"\n",
        "  Find the top 3 most severe issues in the codebase.\n",
        "\"\"\"\n",
        "\n",
        "prompt = get_code_prompt(question)\n",
        "contents = [prompt]\n",
        "\n",
        "responses = model.generate_content(contents, stream=True)\n",
        "for response in responses:\n",
        "    IPython.display.Markdown(response.text)"
      ]
    },
    {
      "cell_type": "markdown",
      "metadata": {
        "id": "HCilrR6FjmfB"
      },
      "source": [
        "### 4. Fixing bug\n",
        "\n",
        "Find the most severe issue in the codebase that can be fixed and provide a code fix for it.\n"
      ]
    },
    {
      "cell_type": "code",
      "execution_count": 14,
      "metadata": {
        "id": "dwjDh0xGKE2r",
        "outputId": "ca59b2b1-0a31-4c6b-b2d8-e3f69bb47180",
        "colab": {
          "base_uri": "https://localhost:8080/",
          "height": 457
        }
      },
      "outputs": [
        {
          "output_type": "execute_result",
          "data": {
            "text/plain": [
              "<IPython.core.display.Markdown object>"
            ],
            "text/markdown": "```"
          },
          "metadata": {},
          "execution_count": 14
        },
        {
          "output_type": "execute_result",
          "data": {
            "text/plain": [
              "<IPython.core.display.Markdown object>"
            ],
            "text/markdown": "diff\n--- a/src/emailservice/templates/confirmation.html\n"
          },
          "metadata": {},
          "execution_count": 14
        },
        {
          "output_type": "execute_result",
          "data": {
            "text/plain": [
              "<IPython.core.display.Markdown object>"
            ],
            "text/markdown": "+++ b/src/emailservice/templates/confirmation.html\n@@ -"
          },
          "metadata": {},
          "execution_count": 14
        },
        {
          "output_type": "execute_result",
          "data": {
            "text/plain": [
              "<IPython.core.display.Markdown object>"
            ],
            "text/markdown": "39,8 +39,8 @@\n     <h3>Shipping</h3>\n     <p>#{{ order.shipping_tracking_id }}</p>\n"
          },
          "metadata": {},
          "execution_count": 14
        },
        {
          "output_type": "execute_result",
          "data": {
            "text/plain": [
              "<IPython.core.display.Markdown object>"
            ],
            "text/markdown": "     <p>{{ order.shipping_cost.units }}. {{ \"%02d\" | format(order.shipping_cost.nanos // "
          },
          "metadata": {},
          "execution_count": 14
        },
        {
          "output_type": "execute_result",
          "data": {
            "text/plain": [
              "<IPython.core.display.Markdown object>"
            ],
            "text/markdown": "10000000) }} {{ order.shipping_cost.currency_code }}</p>\n-    <p>{{ order.shipping_address.street_address_1 }}, {{order.shipping_address."
          },
          "metadata": {},
          "execution_count": 14
        },
        {
          "output_type": "execute_result",
          "data": {
            "text/plain": [
              "<IPython.core.display.Markdown object>"
            ],
            "text/markdown": "street_address_2}}, {{order.shipping_address.city}}, {{order.shipping_address.country}} {{order.shipping_address.zip_code}}</p>\n-    <h3>Items</h3>\n+    <p"
          },
          "metadata": {},
          "execution_count": 14
        },
        {
          "output_type": "execute_result",
          "data": {
            "text/plain": [
              "<IPython.core.display.Markdown object>"
            ],
            "text/markdown": ">{{ order.shipping_address.street_address }}, {{order.shipping_address.city}}, {{order.shipping_address.country}} {{order.shipping_address.zip_code}}</p>\n+    <h3> Order Items </h3>\n     <table style=\"width:100%\">\n         "
          },
          "metadata": {},
          "execution_count": 14
        },
        {
          "output_type": "execute_result",
          "data": {
            "text/plain": [
              "<IPython.core.display.Markdown object>"
            ],
            "text/markdown": "<tr>\n           <th>Item No.</th>\n\n```"
          },
          "metadata": {},
          "execution_count": 14
        }
      ],
      "source": [
        "question = \"\"\"\n",
        "  Find the most severe bug in the codebase that you can provide a code fix for.\n",
        "\"\"\"\n",
        "\n",
        "prompt = get_code_prompt(question)\n",
        "contents = [prompt]\n",
        "\n",
        "responses = model.generate_content(contents, stream=True)\n",
        "for response in responses:\n",
        "    IPython.display.Markdown(response.text)"
      ]
    },
    {
      "cell_type": "markdown",
      "metadata": {
        "id": "8w2pCULT_xKE"
      },
      "source": [
        "### 5. Implementing a feature request using Function Calling\n",
        "\n",
        "Generate code to implement a feature request.\n",
        "\n",
        "Get feature request text from GitHub Issue"
      ]
    },
    {
      "cell_type": "code",
      "execution_count": 16,
      "metadata": {
        "id": "mMjOy0gJ1_xx",
        "outputId": "19d35610-ff63-4f5d-aef6-a240a5057585",
        "colab": {
          "base_uri": "https://localhost:8080/",
          "height": 271
        }
      },
      "outputs": [
        {
          "output_type": "execute_result",
          "data": {
            "text/plain": [
              "<IPython.core.display.Markdown object>"
            ],
            "text/markdown": "Feature Request:\n### Describe request or inquiry \r\nhelm chart frontend-external support config service type nodeport, like this\r\n```\r\nhelm install xxx --set frontend.service.type=NodePort\r\n```\r\n\r\n### What purpose/environment will this feature serve? \r\n\r\nThis feature enables quick access to the front-end web interface of microservices without the need for additional configuration work.\r\n\r\nI hope to quickly access the web interface after deploying this microservice in the local environment, without the need for additional loadbalancer or ingress configuration, just nodeport is enouth.\r\n\r\nBut now that the deployment is complete, I must manually edit the service and modify the nodeport. If Helm provides parameters to set the nodeport, I don't need to。\r\n"
          },
          "metadata": {},
          "execution_count": 16
        }
      ],
      "source": [
        "# Function declaration with detailed docstring\n",
        "extract_details_from_url_func = FunctionDeclaration(\n",
        "    name=\"extract_details_from_url\",\n",
        "    description=\"Extracts owner, repository name, and issue number details from a GitHub issue URL\",\n",
        "    parameters={\n",
        "        \"type\": \"object\",\n",
        "        \"properties\": {\n",
        "            \"owner\": {\n",
        "                \"type\": \"string\",\n",
        "                \"description\": \"The owner of the GitHub repository.\",\n",
        "            },\n",
        "            \"repo\": {\n",
        "                \"type\": \"string\",\n",
        "                \"description\": \"The name of the GitHub repository.\",\n",
        "            },\n",
        "            \"issue_number\": {\n",
        "                \"type\": \"string\",\n",
        "                \"description\": \"The issue number to fetch the body of.\",\n",
        "            },\n",
        "        },\n",
        "    },\n",
        ")\n",
        "\n",
        "# Tool definition\n",
        "extraction_tool = Tool(function_declarations=[extract_details_from_url_func])\n",
        "\n",
        "FEATURE_REQUEST_URL = (\n",
        "    \"https://github.com/GoogleCloudPlatform/microservices-demo/issues/2205\"\n",
        ")\n",
        "\n",
        "# Prompt content\n",
        "prompt_content = f\"What is the feature request of the following {FEATURE_REQUEST_URL}\"\n",
        "\n",
        "# Model generation with tool usage\n",
        "response = model.generate_content(\n",
        "    [prompt_content],\n",
        "    generation_config=GenerationConfig(temperature=0),\n",
        "    tools=[extraction_tool],\n",
        ")\n",
        "# Extract parameters from model response\n",
        "function_call = response.candidates[0].function_calls[0]\n",
        "\n",
        "# Fetch issue details from GitHub API if function call matches\n",
        "if function_call.name == \"extract_details_from_url\":\n",
        "    issue_body = get_github_issue(\n",
        "        function_call.args[\"owner\"],\n",
        "        function_call.args[\"repo\"],\n",
        "        function_call.args[\"issue_number\"],\n",
        "    )\n",
        "\n",
        "IPython.display.Markdown(f\"Feature Request:\\n{issue_body}\")"
      ]
    },
    {
      "cell_type": "markdown",
      "metadata": {
        "id": "19455545f4c9"
      },
      "source": [
        "Use the GitHub Issue text to implement the feature request"
      ]
    },
    {
      "cell_type": "code",
      "execution_count": 17,
      "metadata": {
        "id": "78e6df259be8",
        "outputId": "07b8efac-69f8-4c23-920e-50c6e1b37256",
        "colab": {
          "base_uri": "https://localhost:8080/",
          "height": 920
        }
      },
      "outputs": [
        {
          "output_type": "execute_result",
          "data": {
            "text/plain": [
              "<IPython.core.display.Markdown object>"
            ],
            "text/markdown": "```diff\n--- a/helm-chart/templates/frontend.yaml\n+++ b/helm-chart/templates/frontend.yaml\n@@ -37,6 +37,8 @@\n     app: {{ .Values.frontend.name }}\n spec:\n   selector:\n+    {{- if .Values.frontend.service.type }}\n+  type: {{ .Values.frontend.service.type }}\n     matchLabels:\n       app: {{ .Values.frontend.name }}\n   template:\n@@ -116,6 +118,9 @@\n   name: {{ .Values.frontend.name }}\n   namespace: {{ .Release.Namespace }}\n   labels:\n+    {{- if .Values.frontend.service.type }}\n+  type: {{ .Values.frontend.service.type }}\n+    {{- end }}\n     app: {{ .Values.frontend.name }}\n spec:\n   type: ClusterIP\n@@ -128,6 +133,9 @@\n   name: {{ .Values.frontend.name }}-external\n   namespace: {{ .Release.Namespace }}\n spec:\n+  {{- if .Values.frontend.service.type }}\n+  type: {{ .Values.frontend.service.type }}\n+  {{- else }}\n   type: LoadBalancer\n+  {{- end }}\n   selector:\n     app: {{ .Values.frontend.name }}\n   ports:\n@@ -245,6 +253,16 @@\n # @TODO: This service is not currently available in Helm.\n # https://github.com/GoogleCloudPlatform/microservices-demo/tree/main/kustomize/components/shopping-assistant\n shoppingAssistantService:\n+  create: false\n+  name: shoppingassistantservice\n+\n+frontend:\n+  create: true\n+  name: frontend\n+  externalService: true\n+  # Default service type is  ClusterIP\n+  service:\n+    type: \"\"\n+    # Specify the nodePort value for the frontend service.\n+    nodePort: \"\"\n   create: false\n   name: shoppingassistantservice\n \n\n```"
          },
          "metadata": {},
          "execution_count": 17
        }
      ],
      "source": [
        "# Combine feature request with URL and get code prompt\n",
        "question = (\n",
        "    \"Implement the following feature request\" + FEATURE_REQUEST_URL + \"\\n\" + issue_body\n",
        ")\n",
        "\n",
        "prompt = get_code_prompt(question)\n",
        "\n",
        "# Generate code response\n",
        "response = model.generate_content([prompt])\n",
        "IPython.display.Markdown(response.text)  # Display in Markdown format"
      ]
    },
    {
      "cell_type": "markdown",
      "metadata": {
        "id": "TOk_Qe35b_cJ"
      },
      "source": [
        "### 6. Creating a troubleshooting guide\n",
        "\n",
        "Create a troubleshooting guide to help resolve common issues."
      ]
    },
    {
      "cell_type": "code",
      "execution_count": 18,
      "metadata": {
        "id": "DKn85LS-v0iw",
        "outputId": "8376b665-427e-4307-c71c-765585effa37",
        "colab": {
          "base_uri": "https://localhost:8080/",
          "height": 1000
        }
      },
      "outputs": [
        {
          "output_type": "execute_result",
          "data": {
            "text/plain": [
              "<IPython.core.display.Markdown object>"
            ],
            "text/markdown": "```"
          },
          "metadata": {},
          "execution_count": 18
        },
        {
          "output_type": "execute_result",
          "data": {
            "text/plain": [
              "<IPython.core.display.Markdown object>"
            ],
            "text/markdown": "\n## Online Boutique Troubleshooting Guide\n\nThis guide helps you troubleshoot common issues encountered when"
          },
          "metadata": {},
          "execution_count": 18
        },
        {
          "output_type": "execute_result",
          "data": {
            "text/plain": [
              "<IPython.core.display.Markdown object>"
            ],
            "text/markdown": " deploying and running the Online Boutique microservices demo application.\n\n**General Troubleshooting Tips"
          },
          "metadata": {},
          "execution_count": 18
        },
        {
          "output_type": "execute_result",
          "data": {
            "text/plain": [
              "<IPython.core.display.Markdown object>"
            ],
            "text/markdown": "**\n\n* **Check Logs:** Examine the logs of the affected services. For deployments on Kubernetes, use `kubectl logs <pod-name>` to view logs"
          },
          "metadata": {},
          "execution_count": 18
        },
        {
          "output_type": "execute_result",
          "data": {
            "text/plain": [
              "<IPython.core.display.Markdown object>"
            ],
            "text/markdown": ".\n* **Verify Connectivity:** Ensure that services can communicate with each other and with any external dependencies (e.g., databases, APIs). Use tools like"
          },
          "metadata": {},
          "execution_count": 18
        },
        {
          "output_type": "execute_result",
          "data": {
            "text/plain": [
              "<IPython.core.display.Markdown object>"
            ],
            "text/markdown": " `ping` or `telnet` to test basic connectivity.\n* **Resource Constraints:** Ensure that services have sufficient resources (CPU, memory) allocated. Use `kubectl describe deployment <deployment-name>` to view resource limits and requests"
          },
          "metadata": {},
          "execution_count": 18
        },
        {
          "output_type": "execute_result",
          "data": {
            "text/plain": [
              "<IPython.core.display.Markdown object>"
            ],
            "text/markdown": ".\n* **Configuration:** Double-check environment variables, configuration files, and Kubernetes manifests for accuracy.\n\n**Common Issues**\n\n**1. Application Not Accessible**\n\n* **Frontend Service:** Verify that the frontend service is running and"
          },
          "metadata": {},
          "execution_count": 18
        },
        {
          "output_type": "execute_result",
          "data": {
            "text/plain": [
              "<IPython.core.display.Markdown object>"
            ],
            "text/markdown": " accessible: \n    * If deploying on Kubernetes, make sure the `frontend-external` service has an external IP assigned (`kubectl get service frontend-external`).\n    * Check the frontend logs for errors (`kubectl logs -l app=frontend`).\n* **Ingress/Gateway:** If using Ingress or a"
          },
          "metadata": {},
          "execution_count": 18
        },
        {
          "output_type": "execute_result",
          "data": {
            "text/plain": [
              "<IPython.core.display.Markdown object>"
            ],
            "text/markdown": " service mesh gateway, ensure it is configured correctly to route traffic to the frontend service.\n* **Firewall Rules:** Verify that firewall rules allow traffic on the necessary ports (80/443 for the frontend, ports for other services).\n\n**2. Service Communication Errors**\n\n* **Service Discovery:** Make"
          },
          "metadata": {},
          "execution_count": 18
        },
        {
          "output_type": "execute_result",
          "data": {
            "text/plain": [
              "<IPython.core.display.Markdown object>"
            ],
            "text/markdown": " sure services can resolve each other's hostnames. This is typically handled by Kubernetes DNS.\n* **Network Policies:** If using network policies, ensure that they allow the required communication between services. \n* **gRPC Errors:** Check for gRPC-specific errors in service logs, such as connection refused or"
          },
          "metadata": {},
          "execution_count": 18
        },
        {
          "output_type": "execute_result",
          "data": {
            "text/plain": [
              "<IPython.core.display.Markdown object>"
            ],
            "text/markdown": " deadline exceeded.\n\n**3. Database Connection Issues**\n\n* **Connection String:** Verify the database connection string (hostname, port, username, password) is correct.\n* **Database Accessibility:** Ensure that the database is accessible from the service attempting to connect. \n* **Database Credentials:** Confirm that the database"
          },
          "metadata": {},
          "execution_count": 18
        },
        {
          "output_type": "execute_result",
          "data": {
            "text/plain": [
              "<IPython.core.display.Markdown object>"
            ],
            "text/markdown": " credentials are valid.\n\n**4. Memorystore (Redis) Integration Problems**\n\n* **Connectivity:** Ensure that the Memorystore instance is in the same region and network as the Kubernetes cluster.\n* **VPC-Native:** Verify that the GKE cluster has VPC-native/IP aliasing enabled.\n"
          },
          "metadata": {},
          "execution_count": 18
        },
        {
          "output_type": "execute_result",
          "data": {
            "text/plain": [
              "<IPython.core.display.Markdown object>"
            ],
            "text/markdown": "* **Authorization:** Confirm that the service account used by the Cart service has permission to access the Memorystore instance.\n\n**5. Spanner Integration Problems**\n\n* **Connection String:** Verify the Spanner connection string (project ID, instance ID, database ID) is correct.\n* **Workload Identity:** Ensure"
          },
          "metadata": {},
          "execution_count": 18
        },
        {
          "output_type": "execute_result",
          "data": {
            "text/plain": [
              "<IPython.core.display.Markdown object>"
            ],
            "text/markdown": " that Workload Identity is enabled on the GKE cluster and the Cart service account is correctly annotated.\n* **IAM Permissions:** Confirm that the service account used by the Cart service has the `Spanner Database User` role on the Spanner database.\n\n**6. Google Cloud Operations Instrumentation Issues**\n\n* **"
          },
          "metadata": {},
          "execution_count": 18
        },
        {
          "output_type": "execute_result",
          "data": {
            "text/plain": [
              "<IPython.core.display.Markdown object>"
            ],
            "text/markdown": "API Enablement:** Make sure the required Google Cloud Operations APIs (Monitoring, Tracing, Profiler) are enabled on the GCP project.\n* **Service Account Permissions:** Verify that the service account used by the services has the necessary roles for accessing the Operations APIs.\n* **Collector Configuration:** Ensure that the Open Tele"
          },
          "metadata": {},
          "execution_count": 18
        },
        {
          "output_type": "execute_result",
          "data": {
            "text/plain": [
              "<IPython.core.display.Markdown object>"
            ],
            "text/markdown": "metry Collector is properly configured to collect and export data.\n\n**7. Load Generator Errors**\n\n* **Frontend Address:** Confirm that the `FRONTEND_ADDR` environment variable is set correctly in the load generator deployment.\n* **Locust Configuration:** Check the Locust configuration file (`locustfile.py`)"
          },
          "metadata": {},
          "execution_count": 18
        },
        {
          "output_type": "execute_result",
          "data": {
            "text/plain": [
              "<IPython.core.display.Markdown object>"
            ],
            "text/markdown": " for valid user behavior scenarios and load settings.\n* **Resource Limits:** Ensure the load generator pod has enough resources to handle the desired load.\n\n**Service-Specific Issues:**\n\n* **Ad service:**\n    * Verify that ads are configured correctly in `src/adservice/src/main/java/"
          },
          "metadata": {},
          "execution_count": 18
        },
        {
          "output_type": "execute_result",
          "data": {
            "text/plain": [
              "<IPython.core.display.Markdown object>"
            ],
            "text/markdown": "hipstershop/AdService.java`.\n* **Cart service:**\n    * Check Redis or other database connection. \n* **Checkout service:**\n    * Verify communication with dependent services (Product Catalog, Shipping, Payment, Email).\n* **Currency service:**\n    * Ensure the currency data file"
          },
          "metadata": {},
          "execution_count": 18
        },
        {
          "output_type": "execute_result",
          "data": {
            "text/plain": [
              "<IPython.core.display.Markdown object>"
            ],
            "text/markdown": " (`src/currencyservice/data/currency_conversion.json`) is present and valid.\n* **Email service:**\n    * If using a real email provider, check provider settings and credentials.\n* **Payment service:**\n    * Review credit card validation logic in `src/paymentservice/"
          },
          "metadata": {},
          "execution_count": 18
        },
        {
          "output_type": "execute_result",
          "data": {
            "text/plain": [
              "<IPython.core.display.Markdown object>"
            ],
            "text/markdown": "charge.js`.\n* **Product Catalog service:**\n    * Ensure the product data file (`src/productcatalogservice/products.json`) is valid.\n* **Recommendation service:**\n    * Verify communication with the Product Catalog service.\n* **Shipping service:**\n    * Review the shipping quote and"
          },
          "metadata": {},
          "execution_count": 18
        },
        {
          "output_type": "execute_result",
          "data": {
            "text/plain": [
              "<IPython.core.display.Markdown object>"
            ],
            "text/markdown": " tracking ID generation logic.\n\n\n**If you encounter issues not covered in this guide, please refer to the Online Boutique documentation, search for similar issues online, or create a new issue in the Online Boutique GitHub repository.**\n```"
          },
          "metadata": {},
          "execution_count": 18
        }
      ],
      "source": [
        "question = \"\"\"\n",
        "    Provide a troubleshooting guide to help resolve common issues.\n",
        "\"\"\"\n",
        "\n",
        "prompt = get_code_prompt(question)\n",
        "contents = [prompt]\n",
        "\n",
        "responses = model.generate_content(contents, stream=True)\n",
        "for response in responses:\n",
        "    IPython.display.Markdown(response.text)"
      ]
    },
    {
      "cell_type": "markdown",
      "metadata": {
        "id": "h23z0sTsj5pL"
      },
      "source": [
        "### 7. Making the app more reliable\n",
        "\n",
        "Recommend best practices to make the application more reliable.\n"
      ]
    },
    {
      "cell_type": "code",
      "execution_count": 20,
      "metadata": {
        "id": "yOBSulTPLUAo",
        "outputId": "e8e8bb4d-777f-49eb-8d58-b15bc1fedfdc",
        "colab": {
          "base_uri": "https://localhost:8080/",
          "height": 686
        }
      },
      "outputs": [
        {
          "output_type": "execute_result",
          "data": {
            "text/plain": [
              "<IPython.core.display.Markdown object>"
            ],
            "text/markdown": "The"
          },
          "metadata": {},
          "execution_count": 20
        },
        {
          "output_type": "execute_result",
          "data": {
            "text/plain": [
              "<IPython.core.display.Markdown object>"
            ],
            "text/markdown": " question is very broad. To give you a more precise answer, I need you"
          },
          "metadata": {},
          "execution_count": 20
        },
        {
          "output_type": "execute_result",
          "data": {
            "text/plain": [
              "<IPython.core.display.Markdown object>"
            ],
            "text/markdown": " to specify which service you are interested in improving the reliability of.  Please provide"
          },
          "metadata": {},
          "execution_count": 20
        },
        {
          "output_type": "execute_result",
          "data": {
            "text/plain": [
              "<IPython.core.display.Markdown object>"
            ],
            "text/markdown": " the following information:\n\n1. **Which service are you focusing on?** (e.g., frontend, cartservice, recommendationservice)\n2."
          },
          "metadata": {},
          "execution_count": 20
        },
        {
          "output_type": "execute_result",
          "data": {
            "text/plain": [
              "<IPython.core.display.Markdown object>"
            ],
            "text/markdown": " **What specific aspects of reliability are you concerned about?** (e.g., uptime, error handling, resilience to failures) \n\nOnce I have this"
          },
          "metadata": {},
          "execution_count": 20
        },
        {
          "output_type": "execute_result",
          "data": {
            "text/plain": [
              "<IPython.core.display.Markdown object>"
            ],
            "text/markdown": " information, I can provide targeted suggestions based on the best practices outlined in https://www.r9y.dev/ and the specific code of the chosen service. \n\nHere are some general areas for improvement that can be applied to many"
          },
          "metadata": {},
          "execution_count": 20
        },
        {
          "output_type": "execute_result",
          "data": {
            "text/plain": [
              "<IPython.core.display.Markdown object>"
            ],
            "text/markdown": " of the services in the Online Boutique application, based on the principles from the provided resource:\n\n**General Best Practices for Reliability**\n\n* **Implement Health Checks:** Ensure each service has robust health checks that accurately reflect its operational status. This"
          },
          "metadata": {},
          "execution_count": 20
        },
        {
          "output_type": "execute_result",
          "data": {
            "text/plain": [
              "<IPython.core.display.Markdown object>"
            ],
            "text/markdown": " will allow Kubernetes to restart failing pods and load balancers to avoid routing traffic to unhealthy instances.\n* **Graceful Degradation:** Design your services to handle partial failures gracefully. If a dependent service is unavailable, the service should still function as best as possible, perhaps by displaying a fallback message or providing limited functionality.\n"
          },
          "metadata": {},
          "execution_count": 20
        },
        {
          "output_type": "execute_result",
          "data": {
            "text/plain": [
              "<IPython.core.display.Markdown object>"
            ],
            "text/markdown": "* **Retry Mechanisms:** Implement retries for external service calls with exponential backoff to handle transient errors. This can improve resilience against temporary network issues or service hiccups.\n* **Circuit Breakers:** Consider using circuit breakers to prevent cascading failures.  A circuit breaker will stop requests to a failing service after a certain number of"
          },
          "metadata": {},
          "execution_count": 20
        },
        {
          "output_type": "execute_result",
          "data": {
            "text/plain": [
              "<IPython.core.display.Markdown object>"
            ],
            "text/markdown": " failures, preventing the issue from affecting other parts of the system.\n* **Rate Limiting:** Implement rate limiting to prevent services from being overwhelmed by traffic spikes. This helps maintain consistent performance and avoid resource exhaustion.\n* **Logging and Monitoring:** Ensure comprehensive logging and monitoring are in place.  Log events that could indicate"
          },
          "metadata": {},
          "execution_count": 20
        },
        {
          "output_type": "execute_result",
          "data": {
            "text/plain": [
              "<IPython.core.display.Markdown object>"
            ],
            "text/markdown": " potential issues, and set up monitoring to alert you of any anomalies.\n* **Configuration Management:** Use a robust configuration management system to ensure consistency across deployments and make it easier to roll back changes.\n* **Automated Testing:** Implement a comprehensive suite of automated tests, including unit, integration, and load tests. This"
          },
          "metadata": {},
          "execution_count": 20
        },
        {
          "output_type": "execute_result",
          "data": {
            "text/plain": [
              "<IPython.core.display.Markdown object>"
            ],
            "text/markdown": " will help catch regressions early and ensure the system remains reliable.\n\nPlease tell me which service you want to focus on, and I can provide more specific and actionable suggestions. \n"
          },
          "metadata": {},
          "execution_count": 20
        }
      ],
      "source": [
        "question = \"\"\"\n",
        "  How can I make this application more reliable? Consider best practices from https://www.r9y.dev/\n",
        "\"\"\"\n",
        "\n",
        "prompt = get_code_prompt(question)\n",
        "contents = [prompt]\n",
        "\n",
        "responses = model.generate_content(contents, stream=True)\n",
        "for response in responses:\n",
        "    IPython.display.Markdown(response.text)"
      ]
    },
    {
      "cell_type": "markdown",
      "metadata": {
        "id": "uf1jNDpJj8u0"
      },
      "source": [
        "### 8. Making the app more secure\n",
        "\n",
        "Recommend best practices to make the application more secure."
      ]
    },
    {
      "cell_type": "code",
      "execution_count": 23,
      "metadata": {
        "id": "Hy_mCyFVLlXU",
        "outputId": "eedb2267-7937-4b65-f94a-0a2e80677aeb",
        "colab": {
          "base_uri": "https://localhost:8080/",
          "height": 1000
        }
      },
      "outputs": [
        {
          "output_type": "execute_result",
          "data": {
            "text/plain": [
              "<IPython.core.display.Markdown object>"
            ],
            "text/markdown": "This"
          },
          "metadata": {},
          "execution_count": 23
        },
        {
          "output_type": "execute_result",
          "data": {
            "text/plain": [
              "<IPython.core.display.Markdown object>"
            ],
            "text/markdown": " application is a demo application and is not intended for production use. The application does"
          },
          "metadata": {},
          "execution_count": 23
        },
        {
          "output_type": "execute_result",
          "data": {
            "text/plain": [
              "<IPython.core.display.Markdown object>"
            ],
            "text/markdown": " not have any security measures in place and is vulnerable to attack. \n\nHowever"
          },
          "metadata": {},
          "execution_count": 23
        },
        {
          "output_type": "execute_result",
          "data": {
            "text/plain": [
              "<IPython.core.display.Markdown object>"
            ],
            "text/markdown": ", there are many ways to secure a real-world application like this. Here are some general suggestions:\n\n**Network Security**\n\n* **Enable network policies"
          },
          "metadata": {},
          "execution_count": 23
        },
        {
          "output_type": "execute_result",
          "data": {
            "text/plain": [
              "<IPython.core.display.Markdown object>"
            ],
            "text/markdown": ":**  Kubernetes Network Policies can restrict traffic flow between pods. The codebase has a `network-policies` Kustomize component that provides fine-grained Network"
          },
          "metadata": {},
          "execution_count": 23
        },
        {
          "output_type": "error",
          "ename": "ValueError",
          "evalue": "Cannot get the response text.\nCannot get the Candidate text.\nResponse candidate content has no parts (and thus no text). The candidate is likely blocked by the safety filters.\nContent:\n{}\nCandidate:\n{\n  \"finish_reason\": \"SAFETY\",\n  \"safety_ratings\": [\n    {\n      \"category\": \"HARM_CATEGORY_HATE_SPEECH\",\n      \"probability\": \"NEGLIGIBLE\",\n      \"probability_score\": 0.29296875,\n      \"severity\": \"HARM_SEVERITY_NEGLIGIBLE\",\n      \"severity_score\": 0.14160156\n    },\n    {\n      \"category\": \"HARM_CATEGORY_DANGEROUS_CONTENT\",\n      \"probability\": \"MEDIUM\",\n      \"blocked\": true,\n      \"probability_score\": 0.734375,\n      \"severity\": \"HARM_SEVERITY_MEDIUM\",\n      \"severity_score\": 0.55078125\n    },\n    {\n      \"category\": \"HARM_CATEGORY_HARASSMENT\",\n      \"probability\": \"NEGLIGIBLE\",\n      \"probability_score\": 0.2421875,\n      \"severity\": \"HARM_SEVERITY_LOW\",\n      \"severity_score\": 0.21484375\n    },\n    {\n      \"category\": \"HARM_CATEGORY_SEXUALLY_EXPLICIT\",\n      \"probability\": \"NEGLIGIBLE\",\n      \"probability_score\": 0.03112793,\n      \"severity\": \"HARM_SEVERITY_NEGLIGIBLE\",\n      \"severity_score\": 0.11425781\n    }\n  ]\n}\nResponse:\n{\n  \"candidates\": [\n    {\n      \"finish_reason\": \"SAFETY\",\n      \"safety_ratings\": [\n        {\n          \"category\": \"HARM_CATEGORY_HATE_SPEECH\",\n          \"probability\": \"NEGLIGIBLE\",\n          \"probability_score\": 0.29296875,\n          \"severity\": \"HARM_SEVERITY_NEGLIGIBLE\",\n          \"severity_score\": 0.14160156\n        },\n        {\n          \"category\": \"HARM_CATEGORY_DANGEROUS_CONTENT\",\n          \"probability\": \"MEDIUM\",\n          \"blocked\": true,\n          \"probability_score\": 0.734375,\n          \"severity\": \"HARM_SEVERITY_MEDIUM\",\n          \"severity_score\": 0.55078125\n        },\n        {\n          \"category\": \"HARM_CATEGORY_HARASSMENT\",\n          \"probability\": \"NEGLIGIBLE\",\n          \"probability_score\": 0.2421875,\n          \"severity\": \"HARM_SEVERITY_LOW\",\n          \"severity_score\": 0.21484375\n        },\n        {\n          \"category\": \"HARM_CATEGORY_SEXUALLY_EXPLICIT\",\n          \"probability\": \"NEGLIGIBLE\",\n          \"probability_score\": 0.03112793,\n          \"severity\": \"HARM_SEVERITY_NEGLIGIBLE\",\n          \"severity_score\": 0.11425781\n        }\n      ]\n    }\n  ],\n  \"usage_metadata\": {\n    \"prompt_token_count\": 733958,\n    \"candidates_token_count\": 97,\n    \"total_token_count\": 734055\n  },\n  \"model_version\": \"gemini-1.5-pro-001\"\n}",
          "traceback": [
            "\u001b[0;31m---------------------------------------------------------------------------\u001b[0m",
            "\u001b[0;31mValueError\u001b[0m                                Traceback (most recent call last)",
            "\u001b[0;32m~/.local/lib/python3.10/site-packages/vertexai/generative_models/_generative_models.py\u001b[0m in \u001b[0;36mtext\u001b[0;34m(self)\u001b[0m\n\u001b[1;32m   2414\u001b[0m         \u001b[0;32mtry\u001b[0m\u001b[0;34m:\u001b[0m\u001b[0;34m\u001b[0m\u001b[0;34m\u001b[0m\u001b[0m\n\u001b[0;32m-> 2415\u001b[0;31m             \u001b[0;32mreturn\u001b[0m \u001b[0mself\u001b[0m\u001b[0;34m.\u001b[0m\u001b[0mcontent\u001b[0m\u001b[0;34m.\u001b[0m\u001b[0mtext\u001b[0m\u001b[0;34m\u001b[0m\u001b[0;34m\u001b[0m\u001b[0m\n\u001b[0m\u001b[1;32m   2416\u001b[0m         \u001b[0;32mexcept\u001b[0m \u001b[0;34m(\u001b[0m\u001b[0mValueError\u001b[0m\u001b[0;34m,\u001b[0m \u001b[0mAttributeError\u001b[0m\u001b[0;34m)\u001b[0m \u001b[0;32mas\u001b[0m \u001b[0me\u001b[0m\u001b[0;34m:\u001b[0m\u001b[0;34m\u001b[0m\u001b[0;34m\u001b[0m\u001b[0m\n",
            "\u001b[0;32m~/.local/lib/python3.10/site-packages/vertexai/generative_models/_generative_models.py\u001b[0m in \u001b[0;36mtext\u001b[0;34m(self)\u001b[0m\n\u001b[1;32m   2492\u001b[0m         \u001b[0;32mif\u001b[0m \u001b[0;32mnot\u001b[0m \u001b[0mself\u001b[0m\u001b[0;34m.\u001b[0m\u001b[0mparts\u001b[0m\u001b[0;34m:\u001b[0m\u001b[0;34m\u001b[0m\u001b[0;34m\u001b[0m\u001b[0m\n\u001b[0;32m-> 2493\u001b[0;31m             raise ValueError(\n\u001b[0m\u001b[1;32m   2494\u001b[0m                 \u001b[0;34m\"Response candidate content has no parts (and thus no text).\"\u001b[0m\u001b[0;34m\u001b[0m\u001b[0;34m\u001b[0m\u001b[0m\n",
            "\u001b[0;31mValueError\u001b[0m: Response candidate content has no parts (and thus no text). The candidate is likely blocked by the safety filters.\nContent:\n{}",
            "\nThe above exception was the direct cause of the following exception:\n",
            "\u001b[0;31mValueError\u001b[0m                                Traceback (most recent call last)",
            "\u001b[0;32m~/.local/lib/python3.10/site-packages/vertexai/generative_models/_generative_models.py\u001b[0m in \u001b[0;36mtext\u001b[0;34m(self)\u001b[0m\n\u001b[1;32m   2325\u001b[0m         \u001b[0;32mtry\u001b[0m\u001b[0;34m:\u001b[0m\u001b[0;34m\u001b[0m\u001b[0;34m\u001b[0m\u001b[0m\n\u001b[0;32m-> 2326\u001b[0;31m             \u001b[0;32mreturn\u001b[0m \u001b[0mself\u001b[0m\u001b[0;34m.\u001b[0m\u001b[0mcandidates\u001b[0m\u001b[0;34m[\u001b[0m\u001b[0;36m0\u001b[0m\u001b[0;34m]\u001b[0m\u001b[0;34m.\u001b[0m\u001b[0mtext\u001b[0m\u001b[0;34m\u001b[0m\u001b[0;34m\u001b[0m\u001b[0m\n\u001b[0m\u001b[1;32m   2327\u001b[0m         \u001b[0;32mexcept\u001b[0m \u001b[0;34m(\u001b[0m\u001b[0mValueError\u001b[0m\u001b[0;34m,\u001b[0m \u001b[0mAttributeError\u001b[0m\u001b[0;34m)\u001b[0m \u001b[0;32mas\u001b[0m \u001b[0me\u001b[0m\u001b[0;34m:\u001b[0m\u001b[0;34m\u001b[0m\u001b[0;34m\u001b[0m\u001b[0m\n",
            "\u001b[0;32m~/.local/lib/python3.10/site-packages/vertexai/generative_models/_generative_models.py\u001b[0m in \u001b[0;36mtext\u001b[0;34m(self)\u001b[0m\n\u001b[1;32m   2418\u001b[0m             \u001b[0;31m# The Content object does not have full information.\u001b[0m\u001b[0;34m\u001b[0m\u001b[0;34m\u001b[0m\u001b[0m\n\u001b[0;32m-> 2419\u001b[0;31m             raise ValueError(\n\u001b[0m\u001b[1;32m   2420\u001b[0m                 \u001b[0;34m\"Cannot get the Candidate text.\\n\"\u001b[0m\u001b[0;34m\u001b[0m\u001b[0;34m\u001b[0m\u001b[0m\n",
            "\u001b[0;31mValueError\u001b[0m: Cannot get the Candidate text.\nResponse candidate content has no parts (and thus no text). The candidate is likely blocked by the safety filters.\nContent:\n{}\nCandidate:\n{\n  \"finish_reason\": \"SAFETY\",\n  \"safety_ratings\": [\n    {\n      \"category\": \"HARM_CATEGORY_HATE_SPEECH\",\n      \"probability\": \"NEGLIGIBLE\",\n      \"probability_score\": 0.29296875,\n      \"severity\": \"HARM_SEVERITY_NEGLIGIBLE\",\n      \"severity_score\": 0.14160156\n    },\n    {\n      \"category\": \"HARM_CATEGORY_DANGEROUS_CONTENT\",\n      \"probability\": \"MEDIUM\",\n      \"blocked\": true,\n      \"probability_score\": 0.734375,\n      \"severity\": \"HARM_SEVERITY_MEDIUM\",\n      \"severity_score\": 0.55078125\n    },\n    {\n      \"category\": \"HARM_CATEGORY_HARASSMENT\",\n      \"probability\": \"NEGLIGIBLE\",\n      \"probability_score\": 0.2421875,\n      \"severity\": \"HARM_SEVERITY_LOW\",\n      \"severity_score\": 0.21484375\n    },\n    {\n      \"category\": \"HARM_CATEGORY_SEXUALLY_EXPLICIT\",\n      \"probability\": \"NEGLIGIBLE\",\n      \"probability_score\": 0.03112793,\n      \"severity\": \"HARM_SEVERITY_NEGLIGIBLE\",\n      \"severity_score\": 0.11425781\n    }\n  ]\n}",
            "\nThe above exception was the direct cause of the following exception:\n",
            "\u001b[0;31mValueError\u001b[0m                                Traceback (most recent call last)",
            "\u001b[0;32m<ipython-input-23-858eb3255700>\u001b[0m in \u001b[0;36m<cell line: 9>\u001b[0;34m()\u001b[0m\n\u001b[1;32m      8\u001b[0m \u001b[0mresponses\u001b[0m \u001b[0;34m=\u001b[0m \u001b[0mmodel\u001b[0m\u001b[0;34m.\u001b[0m\u001b[0mgenerate_content\u001b[0m\u001b[0;34m(\u001b[0m\u001b[0mcontents\u001b[0m\u001b[0;34m,\u001b[0m \u001b[0mstream\u001b[0m\u001b[0;34m=\u001b[0m\u001b[0;32mTrue\u001b[0m\u001b[0;34m)\u001b[0m\u001b[0;34m\u001b[0m\u001b[0;34m\u001b[0m\u001b[0m\n\u001b[1;32m      9\u001b[0m \u001b[0;32mfor\u001b[0m \u001b[0mresponse\u001b[0m \u001b[0;32min\u001b[0m \u001b[0mresponses\u001b[0m\u001b[0;34m:\u001b[0m\u001b[0;34m\u001b[0m\u001b[0;34m\u001b[0m\u001b[0m\n\u001b[0;32m---> 10\u001b[0;31m     \u001b[0mIPython\u001b[0m\u001b[0;34m.\u001b[0m\u001b[0mdisplay\u001b[0m\u001b[0;34m.\u001b[0m\u001b[0mMarkdown\u001b[0m\u001b[0;34m(\u001b[0m\u001b[0mresponse\u001b[0m\u001b[0;34m.\u001b[0m\u001b[0mtext\u001b[0m\u001b[0;34m)\u001b[0m\u001b[0;34m\u001b[0m\u001b[0;34m\u001b[0m\u001b[0m\n\u001b[0m",
            "\u001b[0;32m~/.local/lib/python3.10/site-packages/vertexai/generative_models/_generative_models.py\u001b[0m in \u001b[0;36mtext\u001b[0;34m(self)\u001b[0m\n\u001b[1;32m   2328\u001b[0m             \u001b[0;31m# Enrich the error message with the whole Response.\u001b[0m\u001b[0;34m\u001b[0m\u001b[0;34m\u001b[0m\u001b[0m\n\u001b[1;32m   2329\u001b[0m             \u001b[0;31m# The Candidate object does not have full information.\u001b[0m\u001b[0;34m\u001b[0m\u001b[0;34m\u001b[0m\u001b[0m\n\u001b[0;32m-> 2330\u001b[0;31m             raise ValueError(\n\u001b[0m\u001b[1;32m   2331\u001b[0m                 \u001b[0;34m\"Cannot get the response text.\\n\"\u001b[0m\u001b[0;34m\u001b[0m\u001b[0;34m\u001b[0m\u001b[0m\n\u001b[1;32m   2332\u001b[0m                 \u001b[0;34mf\"{e}\\n\"\u001b[0m\u001b[0;34m\u001b[0m\u001b[0;34m\u001b[0m\u001b[0m\n",
            "\u001b[0;31mValueError\u001b[0m: Cannot get the response text.\nCannot get the Candidate text.\nResponse candidate content has no parts (and thus no text). The candidate is likely blocked by the safety filters.\nContent:\n{}\nCandidate:\n{\n  \"finish_reason\": \"SAFETY\",\n  \"safety_ratings\": [\n    {\n      \"category\": \"HARM_CATEGORY_HATE_SPEECH\",\n      \"probability\": \"NEGLIGIBLE\",\n      \"probability_score\": 0.29296875,\n      \"severity\": \"HARM_SEVERITY_NEGLIGIBLE\",\n      \"severity_score\": 0.14160156\n    },\n    {\n      \"category\": \"HARM_CATEGORY_DANGEROUS_CONTENT\",\n      \"probability\": \"MEDIUM\",\n      \"blocked\": true,\n      \"probability_score\": 0.734375,\n      \"severity\": \"HARM_SEVERITY_MEDIUM\",\n      \"severity_score\": 0.55078125\n    },\n    {\n      \"category\": \"HARM_CATEGORY_HARASSMENT\",\n      \"probability\": \"NEGLIGIBLE\",\n      \"probability_score\": 0.2421875,\n      \"severity\": \"HARM_SEVERITY_LOW\",\n      \"severity_score\": 0.21484375\n    },\n    {\n      \"category\": \"HARM_CATEGORY_SEXUALLY_EXPLICIT\",\n      \"probability\": \"NEGLIGIBLE\",\n      \"probability_score\": 0.03112793,\n      \"severity\": \"HARM_SEVERITY_NEGLIGIBLE\",\n      \"severity_score\": 0.11425781\n    }\n  ]\n}\nResponse:\n{\n  \"candidates\": [\n    {\n      \"finish_reason\": \"SAFETY\",\n      \"safety_ratings\": [\n        {\n          \"category\": \"HARM_CATEGORY_HATE_SPEECH\",\n          \"probability\": \"NEGLIGIBLE\",\n          \"probability_score\": 0.29296875,\n          \"severity\": \"HARM_SEVERITY_NEGLIGIBLE\",\n          \"severity_score\": 0.14160156\n        },\n        {\n          \"category\": \"HARM_CATEGORY_DANGEROUS_CONTENT\",\n          \"probability\": \"MEDIUM\",\n          \"blocked\": true,\n          \"probability_score\": 0.734375,\n          \"severity\": \"HARM_SEVERITY_MEDIUM\",\n          \"severity_score\": 0.55078125\n        },\n        {\n          \"category\": \"HARM_CATEGORY_HARASSMENT\",\n          \"probability\": \"NEGLIGIBLE\",\n          \"probability_score\": 0.2421875,\n          \"severity\": \"HARM_SEVERITY_LOW\",\n          \"severity_score\": 0.21484375\n        },\n        {\n          \"category\": \"HARM_CATEGORY_SEXUALLY_EXPLICIT\",\n          \"probability\": \"NEGLIGIBLE\",\n          \"probability_score\": 0.03112793,\n          \"severity\": \"HARM_SEVERITY_NEGLIGIBLE\",\n          \"severity_score\": 0.11425781\n        }\n      ]\n    }\n  ],\n  \"usage_metadata\": {\n    \"prompt_token_count\": 733958,\n    \"candidates_token_count\": 97,\n    \"total_token_count\": 734055\n  },\n  \"model_version\": \"gemini-1.5-pro-001\"\n}"
          ]
        }
      ],
      "source": [
        "question = \"\"\"\n",
        "  How can you secure the application?\n",
        "\"\"\"\n",
        "\n",
        "prompt = get_code_prompt(question)\n",
        "contents = [prompt]\n",
        "\n",
        "responses = model.generate_content(contents, stream=True)\n",
        "for response in responses:\n",
        "    IPython.display.Markdown(response.text)"
      ]
    },
    {
      "cell_type": "markdown",
      "metadata": {
        "id": "GFfwMOb6kYfw"
      },
      "source": [
        "### 9. Learning the codebase\n",
        "\n",
        "Create a quiz about the concepts used in the codebase."
      ]
    },
    {
      "cell_type": "code",
      "execution_count": 24,
      "metadata": {
        "id": "l7jQIUwsNRH4",
        "outputId": "6557e916-a482-4a6c-ab40-041e36f243a1",
        "colab": {
          "base_uri": "https://localhost:8080/",
          "height": 1000
        }
      },
      "outputs": [
        {
          "output_type": "execute_result",
          "data": {
            "text/plain": [
              "<IPython.core.display.Markdown object>"
            ],
            "text/markdown": "```"
          },
          "metadata": {},
          "execution_count": 24
        },
        {
          "output_type": "execute_result",
          "data": {
            "text/plain": [
              "<IPython.core.display.Markdown object>"
            ],
            "text/markdown": "python\nimport random\n\nquestions = [\n    {\n        \"question\":"
          },
          "metadata": {},
          "execution_count": 24
        },
        {
          "output_type": "execute_result",
          "data": {
            "text/plain": [
              "<IPython.core.display.Markdown object>"
            ],
            "text/markdown": " \"What is the purpose of the `loadDeploymentDetails` function in the frontend"
          },
          "metadata": {},
          "execution_count": 24
        },
        {
          "output_type": "execute_result",
          "data": {
            "text/plain": [
              "<IPython.core.display.Markdown object>"
            ],
            "text/markdown": " service?\",\n        \"options\": [\n            \"To load product details from the product catalog service.\",\n            \"To gather information about the deployment environment,"
          },
          "metadata": {},
          "execution_count": 24
        },
        {
          "output_type": "execute_result",
          "data": {
            "text/plain": [
              "<IPython.core.display.Markdown object>"
            ],
            "text/markdown": " like the cluster name and zone.\",\n            \"To handle user authentication and authorization.\",\n            \"To generate HTML templates for the frontend UI.\",\n        ],"
          },
          "metadata": {},
          "execution_count": 24
        },
        {
          "output_type": "execute_result",
          "data": {
            "text/plain": [
              "<IPython.core.display.Markdown object>"
            ],
            "text/markdown": "\n        \"answer\": \"To gather information about the deployment environment, like the cluster name and zone.\",\n    },\n    {\n        \"question\": \"Which service in the Online Boutique application is responsible for currency conversion?\",\n        "
          },
          "metadata": {},
          "execution_count": 24
        },
        {
          "output_type": "execute_result",
          "data": {
            "text/plain": [
              "<IPython.core.display.Markdown object>"
            ],
            "text/markdown": "\"options\": [\n            \"cartservice\",\n            \"paymentservice\",\n            \"currencyservice\",\n            \"frontend\",\n        ],\n        \"answer\": \"currencyservice\",\n    },\n    "
          },
          "metadata": {},
          "execution_count": 24
        },
        {
          "output_type": "execute_result",
          "data": {
            "text/plain": [
              "<IPython.core.display.Markdown object>"
            ],
            "text/markdown": "{\n        \"question\": \"What database is used by default for storing shopping cart data in the cartservice?\",\n        \"options\": [\n            \"MySQL\",\n            \"PostgreSQL\",\n            \"Redis\",\n            \"MongoDB\",\n        ],\n        \"answer\": \"Redis\",\n    },"
          },
          "metadata": {},
          "execution_count": 24
        },
        {
          "output_type": "execute_result",
          "data": {
            "text/plain": [
              "<IPython.core.display.Markdown object>"
            ],
            "text/markdown": "\n    {\n        \"question\": \"How do microservices in Online Boutique communicate with each other?\",\n        \"options\": [\n            \"REST API calls\",\n            \"gRPC\",\n            \"GraphQL\",\n            \"WebSockets\",\n        ],\n        \"answer\": \"gRPC\",\n"
          },
          "metadata": {},
          "execution_count": 24
        },
        {
          "output_type": "execute_result",
          "data": {
            "text/plain": [
              "<IPython.core.display.Markdown object>"
            ],
            "text/markdown": "    },\n    {\n        \"question\": \"What is the role of the `recommendationservice`?\",\n        \"options\": [\n            \"To handle user authentication and authorization.\",\n            \"To send order confirmation emails.\",\n            \"To suggest products related to items in the user's cart.\",\n"
          },
          "metadata": {},
          "execution_count": 24
        },
        {
          "output_type": "execute_result",
          "data": {
            "text/plain": [
              "<IPython.core.display.Markdown object>"
            ],
            "text/markdown": "            \"To manage product inventory and stock levels.\",\n        ],\n        \"answer\": \"To suggest products related to items in the user's cart.\",\n    },\n    {\n        \"question\": \"Which of the following is a Kustomize component that can be used to enable tracing, metrics,"
          },
          "metadata": {},
          "execution_count": 24
        },
        {
          "output_type": "execute_result",
          "data": {
            "text/plain": [
              "<IPython.core.display.Markdown object>"
            ],
            "text/markdown": " and profiling in Online Boutique?\",\n        \"options\": [\n            \"components/cymbal-branding\",\n            \"components/google-cloud-operations\",\n            \"components/memorystore\",\n            \"components/network-policies\",\n        ],\n        \"answer\": \"components/google-cloud"
          },
          "metadata": {},
          "execution_count": 24
        },
        {
          "output_type": "execute_result",
          "data": {
            "text/plain": [
              "<IPython.core.display.Markdown object>"
            ],
            "text/markdown": "-operations\",\n    },\n    {\n        \"question\": \"What tool is used to build and deploy the Docker images for Online Boutique in the development guide?\",\n        \"options\": [\n            \"Docker Compose\",\n            \"Kubernetes\",\n            \"Skaffold\",\n            \"Jenkins\",\n        "
          },
          "metadata": {},
          "execution_count": 24
        },
        {
          "output_type": "execute_result",
          "data": {
            "text/plain": [
              "<IPython.core.display.Markdown object>"
            ],
            "text/markdown": "],\n        \"answer\": \"Skaffold\",\n    },\n    {\n        \"question\": \"What is the purpose of the `ENV_PLATFORM` environment variable in the frontend service?\",\n        \"options\": [\n            \"To determine the currency to display prices in.\",\n            \"To customize the"
          },
          "metadata": {},
          "execution_count": 24
        },
        {
          "output_type": "execute_result",
          "data": {
            "text/plain": [
              "<IPython.core.display.Markdown object>"
            ],
            "text/markdown": " styling and branding of the frontend based on the deployment environment.\",\n            \"To enable or disable user authentication.\",\n            \"To configure the load balancer for the frontend service.\",\n        ],\n        \"answer\": \"To customize the styling and branding of the frontend based on the deployment environment.\",\n    },\n    "
          },
          "metadata": {},
          "execution_count": 24
        },
        {
          "output_type": "execute_result",
          "data": {
            "text/plain": [
              "<IPython.core.display.Markdown object>"
            ],
            "text/markdown": "{\n        \"question\": \"What is the purpose of the `EXTRA_LATENCY` environment variable in the `productcatalogservice`?\",\n        \"options\": [\n            \"To simulate network latency for testing purposes.\",\n            \"To control the rate at which product data is reloaded.\",\n            \"To"
          },
          "metadata": {},
          "execution_count": 24
        },
        {
          "output_type": "execute_result",
          "data": {
            "text/plain": [
              "<IPython.core.display.Markdown object>"
            ],
            "text/markdown": " throttle requests to prevent overloading the service.\",\n            \"To adjust the pricing of products based on demand.\",\n        ],\n        \"answer\": \"To simulate network latency for testing purposes.\",\n    },\n    {\n        \"question\": \"Which service is responsible for handling credit card charges in Online Boutique?\",\n"
          },
          "metadata": {},
          "execution_count": 24
        },
        {
          "output_type": "execute_result",
          "data": {
            "text/plain": [
              "<IPython.core.display.Markdown object>"
            ],
            "text/markdown": "        \"options\": [\n            \"checkoutservice\",\n            \"paymentservice\",\n            \"currencyservice\",\n            \"frontend\",\n        ],\n        \"answer\": \"paymentservice\",\n    },\n]\n\ndef ask_question(question_data):\n    print(question_"
          },
          "metadata": {},
          "execution_count": 24
        },
        {
          "output_type": "execute_result",
          "data": {
            "text/plain": [
              "<IPython.core.display.Markdown object>"
            ],
            "text/markdown": "data[\"question\"])\n    for i, option in enumerate(question_data[\"options\"]):\n        print(f\"{i+1}. {option}\")\n    while True:\n        try:\n            answer = int(input(\"Enter the number of your answer: \"))\n            if 1 <="
          },
          "metadata": {},
          "execution_count": 24
        },
        {
          "output_type": "execute_result",
          "data": {
            "text/plain": [
              "<IPython.core.display.Markdown object>"
            ],
            "text/markdown": " answer <= len(question_data[\"options\"]):\n                break\n            else:\n                print(\"Invalid input. Please enter a number within the range.\")\n        except ValueError:\n            print(\"Invalid input. Please enter a number.\")\n    if question_data[\"options\"][answer-1] =="
          },
          "metadata": {},
          "execution_count": 24
        },
        {
          "output_type": "execute_result",
          "data": {
            "text/plain": [
              "<IPython.core.display.Markdown object>"
            ],
            "text/markdown": " question_data[\"answer\"]:\n        print(\"Correct!\")\n    else:\n        print(f\"Incorrect. The correct answer is: {question_data['answer']}\")\n\nrandom.shuffle(questions)\n\nfor question_data in questions:\n    ask_question(question_data)\n    "
          },
          "metadata": {},
          "execution_count": 24
        },
        {
          "output_type": "execute_result",
          "data": {
            "text/plain": [
              "<IPython.core.display.Markdown object>"
            ],
            "text/markdown": "print(\"\\n\")\n```"
          },
          "metadata": {},
          "execution_count": 24
        }
      ],
      "source": [
        "question = \"\"\"\n",
        "  Create a quiz about the concepts used in my codebase to help me solidify my understanding.\n",
        "\"\"\"\n",
        "\n",
        "prompt = get_code_prompt(question)\n",
        "contents = [prompt]\n",
        "\n",
        "responses = model.generate_content(contents, stream=True)\n",
        "for response in responses:\n",
        "    IPython.display.Markdown(response.text)"
      ]
    },
    {
      "cell_type": "markdown",
      "metadata": {
        "id": "Rjo1UrZwGLan"
      },
      "source": [
        "### 10. Creating a quickstart tutorial\n",
        "\n",
        "Create an end-to-end quickstart tutorial for a specific component.\n"
      ]
    },
    {
      "cell_type": "code",
      "execution_count": 25,
      "metadata": {
        "id": "FRwmRyDDFRMB",
        "outputId": "b69c44a7-7e3a-44a5-a0a5-2d1e01977892",
        "colab": {
          "base_uri": "https://localhost:8080/",
          "height": 1000
        }
      },
      "outputs": [
        {
          "output_type": "execute_result",
          "data": {
            "text/plain": [
              "<IPython.core.display.Markdown object>"
            ],
            "text/markdown": "```"
          },
          "metadata": {},
          "execution_count": 25
        },
        {
          "output_type": "execute_result",
          "data": {
            "text/plain": [
              "<IPython.core.display.Markdown object>"
            ],
            "text/markdown": "\n## Integrating AlloyDB with the CartService in Online Boutique\n\nThis tutorial demonstrates"
          },
          "metadata": {},
          "execution_count": 25
        },
        {
          "output_type": "execute_result",
          "data": {
            "text/plain": [
              "<IPython.core.display.Markdown object>"
            ],
            "text/markdown": " how to integrate Google Cloud's AlloyDB with the `cartservice` in"
          },
          "metadata": {},
          "execution_count": 25
        },
        {
          "output_type": "execute_result",
          "data": {
            "text/plain": [
              "<IPython.core.display.Markdown object>"
            ],
            "text/markdown": " the Online Boutique application. It will cover:\n\n- Setting up an AlloyDB cluster.\n- Configuring the `cartservice` to use AlloyDB."
          },
          "metadata": {},
          "execution_count": 25
        },
        {
          "output_type": "execute_result",
          "data": {
            "text/plain": [
              "<IPython.core.display.Markdown object>"
            ],
            "text/markdown": " \n- Highlighting AlloyDB's benefits for the application.\n\n### 1. Prerequisites\n\n- A Google Cloud Project with billing enabled.\n-"
          },
          "metadata": {},
          "execution_count": 25
        },
        {
          "output_type": "execute_result",
          "data": {
            "text/plain": [
              "<IPython.core.display.Markdown object>"
            ],
            "text/markdown": " `gcloud` CLI installed and configured.\n- `kubectl` CLI installed and configured with a GKE cluster (or minikube).\n- Basic knowledge of Kubernetes and SQL.\n\n### 2. Provisioning an AlloyDB"
          },
          "metadata": {},
          "execution_count": 25
        },
        {
          "output_type": "execute_result",
          "data": {
            "text/plain": [
              "<IPython.core.display.Markdown object>"
            ],
            "text/markdown": " Cluster\n\nBefore we can use AlloyDB, we need to create a cluster. \n\n1. Enable the AlloyDB API:\n\n```bash\ngcloud services enable alloydb.googleapis.com\n```\n\n2. Create a service"
          },
          "metadata": {},
          "execution_count": 25
        },
        {
          "output_type": "execute_result",
          "data": {
            "text/plain": [
              "<IPython.core.display.Markdown object>"
            ],
            "text/markdown": " networking connection for AlloyDB:\n\n```bash\nPROJECT_ID=<your-project-id>\nREGION=<your-region> # e.g., us-central1\nCLUSTER_NAME=onlineboutique-cluster\nINSTANCE_NAME=onlineboutique-instance\nNETWORK=default # use your desired VPC network"
          },
          "metadata": {},
          "execution_count": 25
        },
        {
          "output_type": "execute_result",
          "data": {
            "text/plain": [
              "<IPython.core.display.Markdown object>"
            ],
            "text/markdown": "\nSERVICE_NAME=onlineboutique-network-range\n\ngcloud compute addresses create ${SERVICE_NAME} \\\n    --global \\\n    --purpose=VPC_PEERING \\\n    --prefix-length=16 \\\n    --description=\"Peering range for AlloyDB\" \\\n    "
          },
          "metadata": {},
          "execution_count": 25
        },
        {
          "output_type": "execute_result",
          "data": {
            "text/plain": [
              "<IPython.core.display.Markdown object>"
            ],
            "text/markdown": "--network=${NETWORK}\n\ngcloud services vpc-peerings connect \\\n    --service=servicenetworking.googleapis.com \\\n    --ranges=${SERVICE_NAME} \\\n    --network=${NETWORK}\n```\n\n3. Create the AlloyDB cluster:\n\n```bash\ngcloud alloy"
          },
          "metadata": {},
          "execution_count": 25
        },
        {
          "output_type": "execute_result",
          "data": {
            "text/plain": [
              "<IPython.core.display.Markdown object>"
            ],
            "text/markdown": "db clusters create $CLUSTER_NAME \\\n    --region=$REGION \\\n    --password=<your_password> \\\n    --disable-automated-backup \\\n    --network=$NETWORK\n```\n\n4. Create a primary instance:\n\n```bash\ngcloud alloydb instances create $INSTANCE_NAME"
          },
          "metadata": {},
          "execution_count": 25
        },
        {
          "output_type": "execute_result",
          "data": {
            "text/plain": [
              "<IPython.core.display.Markdown object>"
            ],
            "text/markdown": " \\\n    --cluster=$CLUSTER_NAME \\\n    --region=$REGION \\\n    --cpu-count=4 \\\n    --instance-type=PRIMARY\n```\n\n### 3. Configuring Cartservice to Use AlloyDB\n\nNow, let's configure the `cartservice` to use"
          },
          "metadata": {},
          "execution_count": 25
        },
        {
          "output_type": "execute_result",
          "data": {
            "text/plain": [
              "<IPython.core.display.Markdown object>"
            ],
            "text/markdown": " our newly provisioned AlloyDB cluster. \n\n1. Update your Kubernetes deployment manifest for `cartservice`. \n\n- Replace the existing `REDIS_ADDR` environment variable with the following:\n\n```yaml\n        env:\n        - name: ALLOYDB_CONNECTION_STRING\n          value: \"Host"
          },
          "metadata": {},
          "execution_count": 25
        },
        {
          "output_type": "execute_result",
          "data": {
            "text/plain": [
              "<IPython.core.display.Markdown object>"
            ],
            "text/markdown": "=<PRIMARY_IP>;Database=<DATABASE_NAME>;Username=postgres;Password=<PASSWORD>\"\n```\n\n  - Replace `<PRIMARY_IP>` with the IP address of your AlloyDB primary instance. You can get it with this command: \n\n     ```bash\n     gcloud alloydb instances describe $INSTANCE"
          },
          "metadata": {},
          "execution_count": 25
        },
        {
          "output_type": "execute_result",
          "data": {
            "text/plain": [
              "<IPython.core.display.Markdown object>"
            ],
            "text/markdown": "_NAME --cluster=$CLUSTER_NAME --region=$REGION --format='value(ipAddress)'\n     ```\n\n  - Replace `<DATABASE_NAME>` with the name of your AlloyDB database (e.g., \"carts\"). You'll need to create this database using a SQL client connected to your AlloyDB"
          },
          "metadata": {},
          "execution_count": 25
        },
        {
          "output_type": "execute_result",
          "data": {
            "text/plain": [
              "<IPython.core.display.Markdown object>"
            ],
            "text/markdown": " instance.\n  - Replace `<PASSWORD>` with the password you set when creating the AlloyDB cluster.\n\n2. (Optional) For enhanced security, store the database password in [Google Cloud Secret Manager](https://cloud.google.com/secret-manager) and configure `cartservice` to fetch it at"
          },
          "metadata": {},
          "execution_count": 25
        },
        {
          "output_type": "execute_result",
          "data": {
            "text/plain": [
              "<IPython.core.display.Markdown object>"
            ],
            "text/markdown": " runtime. This avoids hardcoding sensitive information in your deployment manifest. See [using secrets](https://kubernetes.io/docs/concepts/configuration/secret/) in Kubernetes for details.\n\n3.  Redeploy your `cartservice` with the updated configuration. \n\n    ```\n    kubectl apply -f <"
          },
          "metadata": {},
          "execution_count": 25
        },
        {
          "output_type": "execute_result",
          "data": {
            "text/plain": [
              "<IPython.core.display.Markdown object>"
            ],
            "text/markdown": "path-to-your-cartservice-manifest>\n    ```\n\n### 4. Key Capabilities and Benefits of AlloyDB\n\n- **High Performance:** AlloyDB delivers significantly higher throughput for transactional workloads, resulting in faster response times for `cartservice` operations like adding items, retrieving carts, and checkout processing."
          },
          "metadata": {},
          "execution_count": 25
        },
        {
          "output_type": "execute_result",
          "data": {
            "text/plain": [
              "<IPython.core.display.Markdown object>"
            ],
            "text/markdown": " \n- **Scalability:**  AlloyDB can handle growing data volumes and user traffic with ease. As the Online Boutique application scales, AlloyDB will scale seamlessly to meet its demands.\n- **Managed Service:** AlloyDB is a fully managed service, eliminating the need for manual database administration tasks like backups, replication"
          },
          "metadata": {},
          "execution_count": 25
        },
        {
          "output_type": "execute_result",
          "data": {
            "text/plain": [
              "<IPython.core.display.Markdown object>"
            ],
            "text/markdown": ", and updates. This allows you to focus on developing the application logic, instead of managing database infrastructure.\n- **Integration with Google Cloud:** AlloyDB integrates seamlessly with other Google Cloud services like Cloud Monitoring and Cloud Logging, giving you full visibility into your database's performance and health.\n\n### 5. Cleanup"
          },
          "metadata": {},
          "execution_count": 25
        },
        {
          "output_type": "execute_result",
          "data": {
            "text/plain": [
              "<IPython.core.display.Markdown object>"
            ],
            "text/markdown": "\n\nTo avoid incurring costs, remember to delete your AlloyDB cluster and any associated resources when you're finished with this tutorial.\n```\n\nPlease, let me know if you have any other questions.\n"
          },
          "metadata": {},
          "execution_count": 25
        }
      ],
      "source": [
        "question = \"\"\"\n",
        "  Please write an end-to-end quickstart tutorial that introduces AlloyDB,\n",
        "  shows how to configure it with the CartService,\n",
        "  and highlights key capabilities of AlloyDB in context of the Online Boutique application.\n",
        "\"\"\"\n",
        "\n",
        "prompt = get_code_prompt(question)\n",
        "contents = [prompt]\n",
        "\n",
        "responses = model.generate_content(contents, stream=True)\n",
        "for response in responses:\n",
        "    IPython.display.Markdown(response.text)"
      ]
    },
    {
      "cell_type": "markdown",
      "metadata": {
        "id": "OAJ-kBCZnlH_"
      },
      "source": [
        "### 11. Creating a Git Changelog Generator\n",
        "\n",
        "Understanding changes made between Git commits and highlighting the most important aspects of the changes."
      ]
    },
    {
      "cell_type": "code",
      "execution_count": 26,
      "metadata": {
        "id": "jdeWO8crnlH_",
        "outputId": "c55cc26a-8f74-4766-a51a-b052f14c6355",
        "colab": {
          "base_uri": "https://localhost:8080/",
          "height": 262
        }
      },
      "outputs": [
        {
          "output_type": "execute_result",
          "data": {
            "text/plain": [
              "<IPython.core.display.Markdown object>"
            ],
            "text/markdown": "The"
          },
          "metadata": {},
          "execution_count": 26
        },
        {
          "output_type": "execute_result",
          "data": {
            "text/plain": [
              "<IPython.core.display.Markdown object>"
            ],
            "text/markdown": " most important changes are:\n- Downgraded some dependencies versions.\n-"
          },
          "metadata": {},
          "execution_count": 26
        },
        {
          "output_type": "execute_result",
          "data": {
            "text/plain": [
              "<IPython.core.display.Markdown object>"
            ],
            "text/markdown": " Added a `shoppingassistantservice` and included its yaml configuration files.\n"
          },
          "metadata": {},
          "execution_count": 26
        },
        {
          "output_type": "execute_result",
          "data": {
            "text/plain": [
              "<IPython.core.display.Markdown object>"
            ],
            "text/markdown": "- Updated the `README.md` to include the new `shoppingassistantservice`.\n- Added a `.editorconfig` file for maintaining consistent code style"
          },
          "metadata": {},
          "execution_count": 26
        },
        {
          "output_type": "execute_result",
          "data": {
            "text/plain": [
              "<IPython.core.display.Markdown object>"
            ],
            "text/markdown": ". \n- Added new `skaffold.yaml` files.\n- Removed `wi-kubernetes-manifests.yaml` from `src/load"
          },
          "metadata": {},
          "execution_count": 26
        },
        {
          "output_type": "execute_result",
          "data": {
            "text/plain": [
              "<IPython.core.display.Markdown object>"
            ],
            "text/markdown": "generator`."
          },
          "metadata": {},
          "execution_count": 26
        }
      ],
      "source": [
        "### Fetches commit IDs from a local Git repository on a specified branch.\n",
        "\n",
        "repo = git.Repo(repo_dir)\n",
        "branch_name = \"main\"\n",
        "commit_ids = [\n",
        "    commit.hexsha for commit in repo.iter_commits(branch_name)\n",
        "]  # A list of commit IDs (SHA-1 hashes) in reverse chronological order (newest first)\n",
        "\n",
        "if len(commit_ids) >= 2:\n",
        "    diff_text = repo.git.diff(commit_ids[0], commit_ids[1])\n",
        "\n",
        "    question = \"\"\"\n",
        "      Given the above git diff output, Summarize the important changes made.\n",
        "    \"\"\"\n",
        "\n",
        "    prompt = diff_text + question + code_text\n",
        "    contents = [prompt]\n",
        "\n",
        "    responses = model.generate_content(contents, stream=True)\n",
        "    for response in responses:\n",
        "        IPython.display.Markdown(response.text)"
      ]
    },
    {
      "cell_type": "markdown",
      "metadata": {
        "id": "7kUeIBfGyoX7"
      },
      "source": [
        "## Conclusion\n",
        "\n",
        "In this tutorial, you've learned how to use the Gemini 1.5 Pro to analyze a codebase and prompt the model to:\n",
        "\n",
        "- Summarize codebases effortlessly.\n",
        "- Generate clear developer getting-started documentation.\n",
        "- Uncover critical bugs and provide fixes.\n",
        "- Implement new features and improve reliability and security.\n",
        "- Understanding changes made between Git commits"
      ]
    }
  ],
  "metadata": {
    "colab": {
      "name": "analyze_codebase_with_gemini_1_5_pro.ipynb",
      "provenance": []
    },
    "kernelspec": {
      "display_name": "Python 3",
      "name": "python3"
    }
  },
  "nbformat": 4,
  "nbformat_minor": 0
}